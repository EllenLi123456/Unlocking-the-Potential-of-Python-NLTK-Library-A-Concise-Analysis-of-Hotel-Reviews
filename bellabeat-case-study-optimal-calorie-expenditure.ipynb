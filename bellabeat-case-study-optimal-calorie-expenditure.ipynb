{
 "cells": [
  {
   "cell_type": "markdown",
   "id": "bd3704aa",
   "metadata": {
    "_kg_hide-input": false,
    "papermill": {
     "duration": 0.021174,
     "end_time": "2023-08-06T23:24:30.208870",
     "exception": false,
     "start_time": "2023-08-06T23:24:30.187696",
     "status": "completed"
    },
    "tags": []
   },
   "source": [
    "## Project Preview:  \n",
    "\n",
    "Bellabeat, a pioneering high-tech company founded in 2013 by Urška Sršen and Sando Mur, is on a mission to revolutionize women's health and well-being through innovative smart products. By harnessing technology, Bellabeat aims to empower women worldwide, providing them with valuable insights into their activity, sleep, stress, and reproductive health to make informed decisions about their well-being. \n",
    "\n",
    "\n",
    "After studying FitBit Fitness Tracker Data, I discovered a strong positive correlation between Calories and Activity_Intensity, indicating a significant relationship between these variables. The insights obtained from a linear regression model allowed us to understand that as Activity_Intensity increases, Calorie expenditure also tends to rise. With an impressive R-squared value of 0.80, we can explain approximately 80% of the variance in Calories based on variations in Activity_Intensity. Building upon these findings, my next steps involve constructing three distinct machine learning models: Linear Regression, Decision Tree, and Random Forest. The objective is to predict the impact of varying levels of physical activity on calorie expenditure at different time intervals. By leveraging these trained models, Bellabeat will have the capability to create personalized training plans tailored to each client's unique fitness objectives. \n"
   ]
  },
  {
   "cell_type": "markdown",
   "id": "ac3eb9b2",
   "metadata": {
    "papermill": {
     "duration": 0.021045,
     "end_time": "2023-08-06T23:24:30.252551",
     "exception": false,
     "start_time": "2023-08-06T23:24:30.231506",
     "status": "completed"
    },
    "tags": []
   },
   "source": [
    "<a id=\"Table_of_Contents\"></a>\n",
    "## Table of Contents\n",
    "\n",
    "### [1. Company Overview](#Company_Overview)\n",
    "\n",
    "#### [1.1 Growth and Distribution](#Growth_and_Distribution)\n",
    "\n",
    "#### [1.2 Product Lineup](#Product_Lineup)\n",
    "\n",
    "### [2. Ask](#Ask)\n",
    "\n",
    "#### [2.1 Business Task](#Business_Task)\n",
    "\n",
    "#### [2.2 Stakeholders](#Stakeholders)\n",
    "\n",
    "### [3. Prepare](#Prepare)\n",
    "\n",
    "#### [3.1 Data Source and Accessibility](#Data_Source_and_Accessibility)\n",
    "\n",
    "#### [3.2 Summary of Data](#Summary_of_Data)\n",
    "\n",
    "#### [3.3 Organization of Data](#Organization_of_Data)\n",
    "\n",
    "#### [3.4 Data Limitations & Integrity](#Data_Limitations_Integrity)\n",
    "\n",
    "### [4. Process](#Process)\n",
    "\n",
    "#### [4.1 Import Data and Preview](#Import_Data_and_Preview)\n",
    "\n",
    "#### [4.2 Join Two CSV](#Join_Two_CSV)\n",
    "\n",
    "#### [4.3 Joined Data Cleaning and Preview](#Joined_Data_Cleaning_and_Preview)\n",
    "\n",
    "### [5. Analyst and Share](#Analyst_and_Share)\n",
    "\n",
    "#### [5.1 Perform Data Visualization](#Perform_Data_Visualization)\n",
    "\n",
    "#### [5.2 Machine Learning](#Machine_Learning)\n",
    "\n",
    "##### [5.2.1 Create Training and Testing](#Create_Training_and_Testing)\n",
    "\n",
    "##### [5.2.2 Linear Regression](#Linear_Regression)\n",
    "\n",
    "##### [5.2.3 Decision Tree Regressor](#Decision_Tree_Regressor)\n",
    "\n",
    "##### [5.2.4 Random Forest Regressor](#Random_Forest_Regressor)\n",
    "\n",
    "### [6. Conclusion and Act](#Conclusion_and_Act)"
   ]
  },
  {
   "cell_type": "markdown",
   "id": "68601d24",
   "metadata": {
    "papermill": {
     "duration": 0.020341,
     "end_time": "2023-08-06T23:24:30.293787",
     "exception": false,
     "start_time": "2023-08-06T23:24:30.273446",
     "status": "completed"
    },
    "tags": []
   },
   "source": [
    "[Back to Table of Contents](#Table_of_Contents)\n",
    "<a id=\"Company_Overview\"></a>\n",
    "\n",
    "### 1. Company Overview\n",
    "\n",
    "Bellabeat is a visionary high-tech company founded in 2013 by Urška Sršen and Sando Mur. With a primary focus on manufacturing health-oriented smart products, Bellabeat caters specifically to women, harnessing the power of technology to inspire and empower them worldwide. Urška Sršen, drawing on her artistic background, played a pivotal role in designing these aesthetically pleasing and functional tech products.\n",
    "\n",
    "The core mission of Bellabeat is to gather and analyze data pertaining to activity, sleep, stress, and reproductive health. By providing women with valuable insights into their well-being and lifestyle habits, the company seeks to equip them with knowledge that fosters informed decision-making about their health."
   ]
  },
  {
   "cell_type": "markdown",
   "id": "fb4b29de",
   "metadata": {
    "papermill": {
     "duration": 0.020501,
     "end_time": "2023-08-06T23:24:30.335171",
     "exception": false,
     "start_time": "2023-08-06T23:24:30.314670",
     "status": "completed"
    },
    "tags": []
   },
   "source": [
    "<a id=\"Growth_and_Distribution\"></a>\n",
    "#### 1.1 Growth and Distribution\n",
    "\n",
    "Over the years, Bellabeat has achieved remarkable growth, expanding its global presence with offices in various locations. To facilitate product accessibility, Bellabeat diversified its distribution channels, establishing partnerships with multiple online retailers in addition to operating its e-commerce platform.\n",
    "\n",
    "Digital marketing serves as a cornerstone of Bellabeat's promotional strategy. The company invests in Google Search consistently, maintains active engagement on social media platforms like Facebook, Instagram, and Twitter, and leverages video ads on Youtube and display ads on the Google Display Network to align with key marketing initiatives."
   ]
  },
  {
   "cell_type": "markdown",
   "id": "04e5c456",
   "metadata": {
    "papermill": {
     "duration": 0.020476,
     "end_time": "2023-08-06T23:24:30.376448",
     "exception": false,
     "start_time": "2023-08-06T23:24:30.355972",
     "status": "completed"
    },
    "tags": []
   },
   "source": [
    "<a id=\"Product_Lineup\"></a>\n",
    "#### 1.2 Product Lineup\n",
    "\n",
    "Bellabeat's product lineup encompasses a range of smart wellness solutions designed to enhance users' overall health and well-being:\n",
    "\n",
    "1. Bellabeat app: The flagship product, the Bellabeat app, provides users with valuable health data concerning their activity, sleep, stress, menstrual cycle, and mindfulness habits. Armed with this information, users can gain a deeper understanding of their habits and make informed choices for a healthier lifestyle. The Bellabeat app seamlessly connects to a suite of smart wellness products.\n",
    "\n",
    "2. Leaf: This classic wellness tracker, wearable as a bracelet, necklace, or clip, interfaces with the Bellabeat app to monitor activity, sleep, and stress levels, offering a comprehensive view of overall well-being.\n",
    "\n",
    "3. Time: Combining the sophistication of a traditional timepiece with smart technology, the Time wellness watch tracks user activity, sleep, and stress, with all data conveniently accessible through the Bellabeat app.\n",
    "\n",
    "4. Spring: The Spring water bottle integrates smart technology to monitor daily water intake, ensuring users remain optimally hydrated throughout the day. The Spring bottle syncs with the Bellabeat app to provide hydration tracking.\n",
    "\n",
    "5. Bellabeat membership: The company also offers a subscription-based membership program, granting users exclusive 24/7 access to personalized guidance on nutrition, activity, sleep, health, beauty, and mindfulness. The program tailors recommendations based on individual lifestyle and goals."
   ]
  },
  {
   "cell_type": "markdown",
   "id": "4ab1802f",
   "metadata": {
    "papermill": {
     "duration": 0.020327,
     "end_time": "2023-08-06T23:24:30.417855",
     "exception": false,
     "start_time": "2023-08-06T23:24:30.397528",
     "status": "completed"
    },
    "tags": []
   },
   "source": [
    "[Back to Table of Contents](#Table_of_Contents)\n",
    "<a id=\"Ask\"></a>\n",
    "### 2. Ask"
   ]
  },
  {
   "cell_type": "markdown",
   "id": "5b3b3c77",
   "metadata": {
    "papermill": {
     "duration": 0.02023,
     "end_time": "2023-08-06T23:24:30.458884",
     "exception": false,
     "start_time": "2023-08-06T23:24:30.438654",
     "status": "completed"
    },
    "tags": []
   },
   "source": [
    "<a id=\"Business_Task\"></a>\n",
    "#### 2.1 Business Task\n",
    "\n",
    "Analyze smart device usage data and gain insights into how consumers use non-Bellabeat smart devices. The analysis will focus on identifying trends in smart device usage and applying these insights to one Bellabeat product in order to improve the company's marketing strategy."
   ]
  },
  {
   "cell_type": "markdown",
   "id": "75190b4e",
   "metadata": {
    "papermill": {
     "duration": 0.020102,
     "end_time": "2023-08-06T23:24:30.499496",
     "exception": false,
     "start_time": "2023-08-06T23:24:30.479394",
     "status": "completed"
    },
    "tags": []
   },
   "source": [
    "<a id=\"Stakeholders\"></a>\n",
    "#### 2.2 Stakeholders\n",
    "\n",
    "* Urška Sršen: Bellabeat’s cofounder and Chief Creative Oﬃcer\n",
    "* Sando Mur: Mathematician and Bellabeat’s cofounder; \n",
    "* Bellabeat marketing analytics team: A team of data analysts responsible for collecting, analyzing, and reporting data that helps guide Bellabeat’s marketing strategy. "
   ]
  },
  {
   "cell_type": "markdown",
   "id": "1ce29ca5",
   "metadata": {
    "papermill": {
     "duration": 0.019996,
     "end_time": "2023-08-06T23:24:30.539883",
     "exception": false,
     "start_time": "2023-08-06T23:24:30.519887",
     "status": "completed"
    },
    "tags": []
   },
   "source": [
    "[Back to Table of Contents](#Table_of_Contents)\n",
    "<a id=\"Prepare\"></a>\n",
    "### 3. Prepare"
   ]
  },
  {
   "cell_type": "markdown",
   "id": "18b57743",
   "metadata": {
    "papermill": {
     "duration": 0.02011,
     "end_time": "2023-08-06T23:24:30.580401",
     "exception": false,
     "start_time": "2023-08-06T23:24:30.560291",
     "status": "completed"
    },
    "tags": []
   },
   "source": [
    "<a id=\"Data_Source_and_Accessibility\"></a>\n",
    "#### 3.1 Data Source and Accessibility\n",
    "\n",
    "* Dataset generated from an Amazon Mechanical Turk survey in 2016\n",
    "* Published on Kaggle under CC0 Public Domain License (The author has dedicated the work to the public domain, allowing anyone to use, modify, and distribute it without permission, even for commercial purposes.) from contributors at Zendo\n",
    "* https://www.kaggle.com/datasets/arashnic/fitbit?datasetId=1041311&sortBy=voteCount"
   ]
  },
  {
   "cell_type": "markdown",
   "id": "1eb6b829",
   "metadata": {
    "papermill": {
     "duration": 0.020134,
     "end_time": "2023-08-06T23:24:30.620888",
     "exception": false,
     "start_time": "2023-08-06T23:24:30.600754",
     "status": "completed"
    },
    "tags": []
   },
   "source": [
    "<a id=\"Summary_of_Data\"></a>\n",
    "#### 3.2 Summary of Data\n",
    "\n",
    "* 30 eligible Fitbit users shared minute-by-minute activity, heart rate, and sleep data\n",
    "* Variations due to different Fitbit trackers and user behaviors"
   ]
  },
  {
   "cell_type": "markdown",
   "id": "969dbafd",
   "metadata": {
    "papermill": {
     "duration": 0.020165,
     "end_time": "2023-08-06T23:24:30.661610",
     "exception": false,
     "start_time": "2023-08-06T23:24:30.641445",
     "status": "completed"
    },
    "tags": []
   },
   "source": [
    "<a id=\"Organization_of_Data\"></a>\n",
    "#### 3.3 Organization of Data\n",
    "\n",
    "* 18 FitBit Fitness Tracker Data sets downloaded in .csv format\n",
    "* Analysis focused on 33 participants over a 31-day period"
   ]
  },
  {
   "cell_type": "code",
   "execution_count": 1,
   "id": "5b3082ce",
   "metadata": {
    "execution": {
     "iopub.execute_input": "2023-08-06T23:24:30.704865Z",
     "iopub.status.busy": "2023-08-06T23:24:30.704132Z",
     "iopub.status.idle": "2023-08-06T23:24:32.092404Z",
     "shell.execute_reply": "2023-08-06T23:24:32.091119Z"
    },
    "papermill": {
     "duration": 1.413123,
     "end_time": "2023-08-06T23:24:32.095313",
     "exception": false,
     "start_time": "2023-08-06T23:24:30.682190",
     "status": "completed"
    },
    "tags": []
   },
   "outputs": [
    {
     "name": "stderr",
     "output_type": "stream",
     "text": [
      "/opt/conda/lib/python3.10/site-packages/scipy/__init__.py:146: UserWarning: A NumPy version >=1.16.5 and <1.23.0 is required for this version of SciPy (detected version 1.23.5\n",
      "  warnings.warn(f\"A NumPy version >={np_minversion} and <{np_maxversion}\"\n"
     ]
    }
   ],
   "source": [
    "import sqlite3\n",
    "import pandas as pd\n",
    "import matplotlib.pyplot as plt\n",
    "import seaborn as sns\n",
    "import os\n",
    "import datetime\n",
    "import numpy as np"
   ]
  },
  {
   "cell_type": "code",
   "execution_count": 2,
   "id": "56a3f363",
   "metadata": {
    "execution": {
     "iopub.execute_input": "2023-08-06T23:24:32.140367Z",
     "iopub.status.busy": "2023-08-06T23:24:32.139940Z",
     "iopub.status.idle": "2023-08-06T23:24:32.144799Z",
     "shell.execute_reply": "2023-08-06T23:24:32.143750Z"
    },
    "papermill": {
     "duration": 0.030197,
     "end_time": "2023-08-06T23:24:32.147106",
     "exception": false,
     "start_time": "2023-08-06T23:24:32.116909",
     "status": "completed"
    },
    "tags": []
   },
   "outputs": [],
   "source": [
    "path = \"/kaggle/input/fitbit/Fitabase Data 4.12.16-5.12.16/\""
   ]
  },
  {
   "cell_type": "code",
   "execution_count": 3,
   "id": "1725d17c",
   "metadata": {
    "execution": {
     "iopub.execute_input": "2023-08-06T23:24:32.191409Z",
     "iopub.status.busy": "2023-08-06T23:24:32.190169Z",
     "iopub.status.idle": "2023-08-06T23:24:32.196917Z",
     "shell.execute_reply": "2023-08-06T23:24:32.196125Z"
    },
    "papermill": {
     "duration": 0.031145,
     "end_time": "2023-08-06T23:24:32.199123",
     "exception": false,
     "start_time": "2023-08-06T23:24:32.167978",
     "status": "completed"
    },
    "tags": []
   },
   "outputs": [],
   "source": [
    "def get_all_files_in_path(path):\n",
    "    \"\"\"\n",
    "    This function takes a directory path as input and returns a list containing the full paths to all the files present in that directory.\n",
    "    \n",
    "    Parameters:\n",
    "    path (str): The directory path to scan for files.\n",
    "    \n",
    "    Returns:\n",
    "    list: A list of strings representing the full paths to all the files in the specified directory.\n",
    "    \"\"\"\n",
    "    \n",
    "    full_path_list = [entry.path for entry in os.scandir(path) if entry.is_file()]\n",
    "    return full_path_list"
   ]
  },
  {
   "cell_type": "code",
   "execution_count": 4,
   "id": "77344dab",
   "metadata": {
    "execution": {
     "iopub.execute_input": "2023-08-06T23:24:32.242282Z",
     "iopub.status.busy": "2023-08-06T23:24:32.241859Z",
     "iopub.status.idle": "2023-08-06T23:24:32.258005Z",
     "shell.execute_reply": "2023-08-06T23:24:32.257090Z"
    },
    "papermill": {
     "duration": 0.04088,
     "end_time": "2023-08-06T23:24:32.260585",
     "exception": false,
     "start_time": "2023-08-06T23:24:32.219705",
     "status": "completed"
    },
    "tags": []
   },
   "outputs": [
    {
     "data": {
      "text/plain": [
       "['/kaggle/input/fitbit/Fitabase Data 4.12.16-5.12.16/minuteCaloriesNarrow_merged.csv',\n",
       " '/kaggle/input/fitbit/Fitabase Data 4.12.16-5.12.16/weightLogInfo_merged.csv',\n",
       " '/kaggle/input/fitbit/Fitabase Data 4.12.16-5.12.16/sleepDay_merged.csv',\n",
       " '/kaggle/input/fitbit/Fitabase Data 4.12.16-5.12.16/dailyIntensities_merged.csv',\n",
       " '/kaggle/input/fitbit/Fitabase Data 4.12.16-5.12.16/minuteIntensitiesWide_merged.csv',\n",
       " '/kaggle/input/fitbit/Fitabase Data 4.12.16-5.12.16/minuteMETsNarrow_merged.csv',\n",
       " '/kaggle/input/fitbit/Fitabase Data 4.12.16-5.12.16/dailyCalories_merged.csv',\n",
       " '/kaggle/input/fitbit/Fitabase Data 4.12.16-5.12.16/hourlyCalories_merged.csv',\n",
       " '/kaggle/input/fitbit/Fitabase Data 4.12.16-5.12.16/heartrate_seconds_merged.csv',\n",
       " '/kaggle/input/fitbit/Fitabase Data 4.12.16-5.12.16/minuteSleep_merged.csv',\n",
       " '/kaggle/input/fitbit/Fitabase Data 4.12.16-5.12.16/hourlyIntensities_merged.csv',\n",
       " '/kaggle/input/fitbit/Fitabase Data 4.12.16-5.12.16/hourlySteps_merged.csv',\n",
       " '/kaggle/input/fitbit/Fitabase Data 4.12.16-5.12.16/minuteStepsNarrow_merged.csv',\n",
       " '/kaggle/input/fitbit/Fitabase Data 4.12.16-5.12.16/dailySteps_merged.csv',\n",
       " '/kaggle/input/fitbit/Fitabase Data 4.12.16-5.12.16/minuteStepsWide_merged.csv',\n",
       " '/kaggle/input/fitbit/Fitabase Data 4.12.16-5.12.16/minuteIntensitiesNarrow_merged.csv',\n",
       " '/kaggle/input/fitbit/Fitabase Data 4.12.16-5.12.16/minuteCaloriesWide_merged.csv',\n",
       " '/kaggle/input/fitbit/Fitabase Data 4.12.16-5.12.16/dailyActivity_merged.csv']"
      ]
     },
     "execution_count": 4,
     "metadata": {},
     "output_type": "execute_result"
    }
   ],
   "source": [
    "get_all_files_in_path(path)"
   ]
  },
  {
   "cell_type": "code",
   "execution_count": 5,
   "id": "c39274eb",
   "metadata": {
    "execution": {
     "iopub.execute_input": "2023-08-06T23:24:32.304418Z",
     "iopub.status.busy": "2023-08-06T23:24:32.303999Z",
     "iopub.status.idle": "2023-08-06T23:24:32.311126Z",
     "shell.execute_reply": "2023-08-06T23:24:32.310085Z"
    },
    "papermill": {
     "duration": 0.031761,
     "end_time": "2023-08-06T23:24:32.313422",
     "exception": false,
     "start_time": "2023-08-06T23:24:32.281661",
     "status": "completed"
    },
    "tags": []
   },
   "outputs": [
    {
     "data": {
      "text/plain": [
       "18"
      ]
     },
     "execution_count": 5,
     "metadata": {},
     "output_type": "execute_result"
    }
   ],
   "source": [
    "len(get_all_files_in_path(path))"
   ]
  },
  {
   "cell_type": "code",
   "execution_count": 6,
   "id": "d15f14ef",
   "metadata": {
    "execution": {
     "iopub.execute_input": "2023-08-06T23:24:32.357619Z",
     "iopub.status.busy": "2023-08-06T23:24:32.356811Z",
     "iopub.status.idle": "2023-08-06T23:24:42.719618Z",
     "shell.execute_reply": "2023-08-06T23:24:42.718079Z"
    },
    "papermill": {
     "duration": 10.387632,
     "end_time": "2023-08-06T23:24:42.722004",
     "exception": false,
     "start_time": "2023-08-06T23:24:32.334372",
     "status": "completed"
    },
    "tags": []
   },
   "outputs": [
    {
     "name": "stdout",
     "output_type": "stream",
     "text": [
      "CSV File: minuteCaloriesNarrow_merged.csv\n",
      "Head:\n",
      "           Id         ActivityMinute  Calories\n",
      "0  1503960366  4/12/2016 12:00:00 AM    0.7865\n",
      "1  1503960366  4/12/2016 12:01:00 AM    0.7865\n",
      "\n",
      "\n",
      "CSV File: weightLogInfo_merged.csv\n",
      "Head:\n",
      "           Id                  Date   WeightKg  WeightPounds   Fat    BMI  \\\n",
      "0  1503960366  5/2/2016 11:59:59 PM  52.599998    115.963147  22.0  22.65   \n",
      "1  1503960366  5/3/2016 11:59:59 PM  52.599998    115.963147   NaN  22.65   \n",
      "\n",
      "   IsManualReport          LogId  \n",
      "0            True  1462233599000  \n",
      "1            True  1462319999000  \n",
      "\n",
      "\n",
      "CSV File: sleepDay_merged.csv\n",
      "Head:\n",
      "           Id               SleepDay  TotalSleepRecords  TotalMinutesAsleep  \\\n",
      "0  1503960366  4/12/2016 12:00:00 AM                  1                 327   \n",
      "1  1503960366  4/13/2016 12:00:00 AM                  2                 384   \n",
      "\n",
      "   TotalTimeInBed  \n",
      "0             346  \n",
      "1             407  \n",
      "\n",
      "\n",
      "CSV File: dailyIntensities_merged.csv\n",
      "Head:\n",
      "           Id ActivityDay  SedentaryMinutes  LightlyActiveMinutes  \\\n",
      "0  1503960366   4/12/2016               728                   328   \n",
      "1  1503960366   4/13/2016               776                   217   \n",
      "\n",
      "   FairlyActiveMinutes  VeryActiveMinutes  SedentaryActiveDistance  \\\n",
      "0                   13                 25                      0.0   \n",
      "1                   19                 21                      0.0   \n",
      "\n",
      "   LightActiveDistance  ModeratelyActiveDistance  VeryActiveDistance  \n",
      "0                 6.06                      0.55                1.88  \n",
      "1                 4.71                      0.69                1.57  \n",
      "\n",
      "\n",
      "CSV File: minuteIntensitiesWide_merged.csv\n",
      "Head:\n",
      "           Id           ActivityHour  Intensity00  Intensity01  Intensity02  \\\n",
      "0  1503960366  4/13/2016 12:00:00 AM            1            1            0   \n",
      "1  1503960366   4/13/2016 1:00:00 AM            0            0            0   \n",
      "\n",
      "   Intensity03  Intensity04  Intensity05  Intensity06  Intensity07  ...  \\\n",
      "0            0            0            1            0            1  ...   \n",
      "1            0            0            0            0            0  ...   \n",
      "\n",
      "   Intensity50  Intensity51  Intensity52  Intensity53  Intensity54  \\\n",
      "0            0            1            1            0            1   \n",
      "1            0            0            0            0            0   \n",
      "\n",
      "   Intensity55  Intensity56  Intensity57  Intensity58  Intensity59  \n",
      "0            1            0            0            0            0  \n",
      "1            0            0            0            0            0  \n",
      "\n",
      "[2 rows x 62 columns]\n",
      "\n",
      "\n",
      "CSV File: minuteMETsNarrow_merged.csv\n",
      "Head:\n",
      "           Id         ActivityMinute  METs\n",
      "0  1503960366  4/12/2016 12:00:00 AM    10\n",
      "1  1503960366  4/12/2016 12:01:00 AM    10\n",
      "\n",
      "\n",
      "CSV File: dailyCalories_merged.csv\n",
      "Head:\n",
      "           Id ActivityDay  Calories\n",
      "0  1503960366   4/12/2016      1985\n",
      "1  1503960366   4/13/2016      1797\n",
      "\n",
      "\n",
      "CSV File: hourlyCalories_merged.csv\n",
      "Head:\n",
      "           Id           ActivityHour  Calories\n",
      "0  1503960366  4/12/2016 12:00:00 AM        81\n",
      "1  1503960366   4/12/2016 1:00:00 AM        61\n",
      "\n",
      "\n",
      "CSV File: heartrate_seconds_merged.csv\n",
      "Head:\n",
      "           Id                  Time  Value\n",
      "0  2022484408  4/12/2016 7:21:00 AM     97\n",
      "1  2022484408  4/12/2016 7:21:05 AM    102\n",
      "\n",
      "\n",
      "CSV File: minuteSleep_merged.csv\n",
      "Head:\n",
      "           Id                  date  value        logId\n",
      "0  1503960366  4/12/2016 2:47:30 AM      3  11380564589\n",
      "1  1503960366  4/12/2016 2:48:30 AM      2  11380564589\n",
      "\n",
      "\n",
      "CSV File: hourlyIntensities_merged.csv\n",
      "Head:\n",
      "           Id           ActivityHour  TotalIntensity  AverageIntensity\n",
      "0  1503960366  4/12/2016 12:00:00 AM              20          0.333333\n",
      "1  1503960366   4/12/2016 1:00:00 AM               8          0.133333\n",
      "\n",
      "\n",
      "CSV File: hourlySteps_merged.csv\n",
      "Head:\n",
      "           Id           ActivityHour  StepTotal\n",
      "0  1503960366  4/12/2016 12:00:00 AM        373\n",
      "1  1503960366   4/12/2016 1:00:00 AM        160\n",
      "\n",
      "\n",
      "CSV File: minuteStepsNarrow_merged.csv\n",
      "Head:\n",
      "           Id         ActivityMinute  Steps\n",
      "0  1503960366  4/12/2016 12:00:00 AM      0\n",
      "1  1503960366  4/12/2016 12:01:00 AM      0\n",
      "\n",
      "\n",
      "CSV File: dailySteps_merged.csv\n",
      "Head:\n",
      "           Id ActivityDay  StepTotal\n",
      "0  1503960366   4/12/2016      13162\n",
      "1  1503960366   4/13/2016      10735\n",
      "\n",
      "\n",
      "CSV File: minuteStepsWide_merged.csv\n",
      "Head:\n",
      "           Id           ActivityHour  Steps00  Steps01  Steps02  Steps03  \\\n",
      "0  1503960366  4/13/2016 12:00:00 AM        4       16        0        0   \n",
      "1  1503960366   4/13/2016 1:00:00 AM        0        0        0        0   \n",
      "\n",
      "   Steps04  Steps05  Steps06  Steps07  ...  Steps50  Steps51  Steps52  \\\n",
      "0        0        9        0       17  ...        0        9        8   \n",
      "1        0        0        0        0  ...        0        0        0   \n",
      "\n",
      "   Steps53  Steps54  Steps55  Steps56  Steps57  Steps58  Steps59  \n",
      "0        0       20        1        0        0        0        0  \n",
      "1        0        0        0        0        0        0        0  \n",
      "\n",
      "[2 rows x 62 columns]\n",
      "\n",
      "\n",
      "CSV File: minuteIntensitiesNarrow_merged.csv\n",
      "Head:\n",
      "           Id         ActivityMinute  Intensity\n",
      "0  1503960366  4/12/2016 12:00:00 AM          0\n",
      "1  1503960366  4/12/2016 12:01:00 AM          0\n",
      "\n",
      "\n",
      "CSV File: minuteCaloriesWide_merged.csv\n",
      "Head:\n",
      "           Id           ActivityHour  Calories00  Calories01  Calories02  \\\n",
      "0  1503960366  4/13/2016 12:00:00 AM      1.8876      2.2022      0.9438   \n",
      "1  1503960366   4/13/2016 1:00:00 AM      0.7865      0.7865      0.7865   \n",
      "\n",
      "   Calories03  Calories04  Calories05  Calories06  Calories07  ...  \\\n",
      "0      0.9438      0.9438      2.0449      0.9438      2.2022  ...   \n",
      "1      0.7865      0.9438      0.9438      0.9438      0.7865  ...   \n",
      "\n",
      "   Calories50  Calories51  Calories52  Calories53  Calories54  Calories55  \\\n",
      "0      0.9438      2.0449      2.0449      0.9438      2.3595      1.8876   \n",
      "1      0.7865      0.7865      0.7865      0.7865      0.7865      0.7865   \n",
      "\n",
      "   Calories56  Calories57  Calories58  Calories59  \n",
      "0      0.9438      0.9438      0.9438      0.9438  \n",
      "1      0.7865      0.7865      0.7865      0.7865  \n",
      "\n",
      "[2 rows x 62 columns]\n",
      "\n",
      "\n",
      "CSV File: dailyActivity_merged.csv\n",
      "Head:\n",
      "           Id ActivityDate  TotalSteps  TotalDistance  TrackerDistance  \\\n",
      "0  1503960366    4/12/2016       13162           8.50             8.50   \n",
      "1  1503960366    4/13/2016       10735           6.97             6.97   \n",
      "\n",
      "   LoggedActivitiesDistance  VeryActiveDistance  ModeratelyActiveDistance  \\\n",
      "0                       0.0                1.88                      0.55   \n",
      "1                       0.0                1.57                      0.69   \n",
      "\n",
      "   LightActiveDistance  SedentaryActiveDistance  VeryActiveMinutes  \\\n",
      "0                 6.06                      0.0                 25   \n",
      "1                 4.71                      0.0                 21   \n",
      "\n",
      "   FairlyActiveMinutes  LightlyActiveMinutes  SedentaryMinutes  Calories  \n",
      "0                   13                   328               728      1985  \n",
      "1                   19                   217               776      1797  \n",
      "\n",
      "\n"
     ]
    }
   ],
   "source": [
    "for csv_file in os.listdir(path):\n",
    "    if csv_file.endswith('.csv'):\n",
    "        csv_path = os.path.join(path, csv_file)\n",
    "        df = pd.read_csv(csv_path)\n",
    "        print(f\"CSV File: {csv_file}\")\n",
    "        print(\"Head:\")\n",
    "        print(df.head(2))\n",
    "        print(\"\\n\")"
   ]
  },
  {
   "cell_type": "code",
   "execution_count": 7,
   "id": "640a78b0",
   "metadata": {
    "execution": {
     "iopub.execute_input": "2023-08-06T23:24:42.768498Z",
     "iopub.status.busy": "2023-08-06T23:24:42.768104Z",
     "iopub.status.idle": "2023-08-06T23:24:42.778675Z",
     "shell.execute_reply": "2023-08-06T23:24:42.777606Z"
    },
    "papermill": {
     "duration": 0.037012,
     "end_time": "2023-08-06T23:24:42.781439",
     "exception": false,
     "start_time": "2023-08-06T23:24:42.744427",
     "status": "completed"
    },
    "tags": []
   },
   "outputs": [],
   "source": [
    "def get_files_info(path):\n",
    "    \"\"\"\n",
    "    This function takes a directory path as input and returns a dictionary containing information about each file in that directory.\n",
    "    For CSV files, it includes additional information about the number of rows, columns, and column data types.\n",
    "\n",
    "    Parameters:\n",
    "    path (str): The directory path to scan for files.\n",
    "\n",
    "    Returns:\n",
    "    dict: A dictionary with file names as keys and their information as values.\n",
    "          The information for regular files includes keys: \"name\", \"full_path\", \"size\", \"creation_time\", \"modification_time\", and \"access_time\".\n",
    "          The information for CSV files includes keys: \"num_rows\", \"num_columns\", \"column_names\", and \"column_data_types\".\n",
    "    \"\"\"\n",
    "    def get_file_info(entry):\n",
    "        file_info = {\n",
    "            'name': entry.name,\n",
    "            'full_path': entry.path,\n",
    "            'size': entry.stat().st_size,\n",
    "            'creation_time': datetime.datetime.fromtimestamp(entry.stat().st_ctime).strftime('%Y-%m-%d %H:%M:%S'),\n",
    "            'modification_time': datetime.datetime.fromtimestamp(entry.stat().st_mtime).strftime('%Y-%m-%d %H:%M:%S'),\n",
    "            'access_time': datetime.datetime.fromtimestamp(entry.stat().st_atime).strftime('%Y-%m-%d %H:%M:%S')\n",
    "        }\n",
    "\n",
    "        if entry.is_file() and entry.name.endswith('.csv'):\n",
    "            csv_file = pd.read_csv(entry.path)\n",
    "            columns = list(csv_file.columns)\n",
    "            column_data_types = csv_file.dtypes.to_dict()\n",
    "            file_info.update({\n",
    "                \"num_rows\": len(csv_file),\n",
    "                \"num_columns\": len(columns),\n",
    "                \"column_names_and_data_types\": column_data_types\n",
    "            })\n",
    "\n",
    "        return file_info if entry.is_file() else None\n",
    "\n",
    "    file_info_list = [get_file_info(entry) for entry in os.scandir(path)]\n",
    "    file_info_list = list(filter(None, file_info_list))\n",
    "\n",
    "    return {info['name']: info for info in file_info_list}"
   ]
  },
  {
   "cell_type": "code",
   "execution_count": 8,
   "id": "09306e25",
   "metadata": {
    "execution": {
     "iopub.execute_input": "2023-08-06T23:24:42.827232Z",
     "iopub.status.busy": "2023-08-06T23:24:42.826824Z",
     "iopub.status.idle": "2023-08-06T23:24:49.843396Z",
     "shell.execute_reply": "2023-08-06T23:24:49.842253Z"
    },
    "papermill": {
     "duration": 7.042689,
     "end_time": "2023-08-06T23:24:49.846359",
     "exception": false,
     "start_time": "2023-08-06T23:24:42.803670",
     "status": "completed"
    },
    "tags": []
   },
   "outputs": [
    {
     "data": {
      "text/plain": [
       "{'minuteCaloriesNarrow_merged.csv': {'name': 'minuteCaloriesNarrow_merged.csv',\n",
       "  'full_path': '/kaggle/input/fitbit/Fitabase Data 4.12.16-5.12.16/minuteCaloriesNarrow_merged.csv',\n",
       "  'size': 66443854,\n",
       "  'creation_time': '2021-04-14 10:42:06',\n",
       "  'modification_time': '2021-04-14 10:42:06',\n",
       "  'access_time': '2023-08-06 23:24:32',\n",
       "  'num_rows': 1325580,\n",
       "  'num_columns': 3,\n",
       "  'column_names_and_data_types': {'Id': dtype('int64'),\n",
       "   'ActivityMinute': dtype('O'),\n",
       "   'Calories': dtype('float64')}},\n",
       " 'weightLogInfo_merged.csv': {'name': 'weightLogInfo_merged.csv',\n",
       "  'full_path': '/kaggle/input/fitbit/Fitabase Data 4.12.16-5.12.16/weightLogInfo_merged.csv',\n",
       "  'size': 6725,\n",
       "  'creation_time': '2021-04-14 10:42:04',\n",
       "  'modification_time': '2021-04-14 10:42:04',\n",
       "  'access_time': '2023-08-06 23:24:33',\n",
       "  'num_rows': 67,\n",
       "  'num_columns': 8,\n",
       "  'column_names_and_data_types': {'Id': dtype('int64'),\n",
       "   'Date': dtype('O'),\n",
       "   'WeightKg': dtype('float64'),\n",
       "   'WeightPounds': dtype('float64'),\n",
       "   'Fat': dtype('float64'),\n",
       "   'BMI': dtype('float64'),\n",
       "   'IsManualReport': dtype('bool'),\n",
       "   'LogId': dtype('int64')}},\n",
       " 'sleepDay_merged.csv': {'name': 'sleepDay_merged.csv',\n",
       "  'full_path': '/kaggle/input/fitbit/Fitabase Data 4.12.16-5.12.16/sleepDay_merged.csv',\n",
       "  'size': 18100,\n",
       "  'creation_time': '2021-04-14 10:42:04',\n",
       "  'modification_time': '2021-04-14 10:42:04',\n",
       "  'access_time': '2023-08-06 23:24:34',\n",
       "  'num_rows': 413,\n",
       "  'num_columns': 5,\n",
       "  'column_names_and_data_types': {'Id': dtype('int64'),\n",
       "   'SleepDay': dtype('O'),\n",
       "   'TotalSleepRecords': dtype('int64'),\n",
       "   'TotalMinutesAsleep': dtype('int64'),\n",
       "   'TotalTimeInBed': dtype('int64')}},\n",
       " 'dailyIntensities_merged.csv': {'name': 'dailyIntensities_merged.csv',\n",
       "  'full_path': '/kaggle/input/fitbit/Fitabase Data 4.12.16-5.12.16/dailyIntensities_merged.csv',\n",
       "  'size': 70581,\n",
       "  'creation_time': '2021-04-14 10:42:05',\n",
       "  'modification_time': '2021-04-14 10:42:05',\n",
       "  'access_time': '2023-08-06 23:24:34',\n",
       "  'num_rows': 940,\n",
       "  'num_columns': 10,\n",
       "  'column_names_and_data_types': {'Id': dtype('int64'),\n",
       "   'ActivityDay': dtype('O'),\n",
       "   'SedentaryMinutes': dtype('int64'),\n",
       "   'LightlyActiveMinutes': dtype('int64'),\n",
       "   'FairlyActiveMinutes': dtype('int64'),\n",
       "   'VeryActiveMinutes': dtype('int64'),\n",
       "   'SedentaryActiveDistance': dtype('float64'),\n",
       "   'LightActiveDistance': dtype('float64'),\n",
       "   'ModeratelyActiveDistance': dtype('float64'),\n",
       "   'VeryActiveDistance': dtype('float64')}},\n",
       " 'minuteIntensitiesWide_merged.csv': {'name': 'minuteIntensitiesWide_merged.csv',\n",
       "  'full_path': '/kaggle/input/fitbit/Fitabase Data 4.12.16-5.12.16/minuteIntensitiesWide_merged.csv',\n",
       "  'size': 3311685,\n",
       "  'creation_time': '2021-04-14 10:42:05',\n",
       "  'modification_time': '2021-04-14 10:42:05',\n",
       "  'access_time': '2023-08-06 23:24:34',\n",
       "  'num_rows': 21645,\n",
       "  'num_columns': 62,\n",
       "  'column_names_and_data_types': {'Id': dtype('int64'),\n",
       "   'ActivityHour': dtype('O'),\n",
       "   'Intensity00': dtype('int64'),\n",
       "   'Intensity01': dtype('int64'),\n",
       "   'Intensity02': dtype('int64'),\n",
       "   'Intensity03': dtype('int64'),\n",
       "   'Intensity04': dtype('int64'),\n",
       "   'Intensity05': dtype('int64'),\n",
       "   'Intensity06': dtype('int64'),\n",
       "   'Intensity07': dtype('int64'),\n",
       "   'Intensity08': dtype('int64'),\n",
       "   'Intensity09': dtype('int64'),\n",
       "   'Intensity10': dtype('int64'),\n",
       "   'Intensity11': dtype('int64'),\n",
       "   'Intensity12': dtype('int64'),\n",
       "   'Intensity13': dtype('int64'),\n",
       "   'Intensity14': dtype('int64'),\n",
       "   'Intensity15': dtype('int64'),\n",
       "   'Intensity16': dtype('int64'),\n",
       "   'Intensity17': dtype('int64'),\n",
       "   'Intensity18': dtype('int64'),\n",
       "   'Intensity19': dtype('int64'),\n",
       "   'Intensity20': dtype('int64'),\n",
       "   'Intensity21': dtype('int64'),\n",
       "   'Intensity22': dtype('int64'),\n",
       "   'Intensity23': dtype('int64'),\n",
       "   'Intensity24': dtype('int64'),\n",
       "   'Intensity25': dtype('int64'),\n",
       "   'Intensity26': dtype('int64'),\n",
       "   'Intensity27': dtype('int64'),\n",
       "   'Intensity28': dtype('int64'),\n",
       "   'Intensity29': dtype('int64'),\n",
       "   'Intensity30': dtype('int64'),\n",
       "   'Intensity31': dtype('int64'),\n",
       "   'Intensity32': dtype('int64'),\n",
       "   'Intensity33': dtype('int64'),\n",
       "   'Intensity34': dtype('int64'),\n",
       "   'Intensity35': dtype('int64'),\n",
       "   'Intensity36': dtype('int64'),\n",
       "   'Intensity37': dtype('int64'),\n",
       "   'Intensity38': dtype('int64'),\n",
       "   'Intensity39': dtype('int64'),\n",
       "   'Intensity40': dtype('int64'),\n",
       "   'Intensity41': dtype('int64'),\n",
       "   'Intensity42': dtype('int64'),\n",
       "   'Intensity43': dtype('int64'),\n",
       "   'Intensity44': dtype('int64'),\n",
       "   'Intensity45': dtype('int64'),\n",
       "   'Intensity46': dtype('int64'),\n",
       "   'Intensity47': dtype('int64'),\n",
       "   'Intensity48': dtype('int64'),\n",
       "   'Intensity49': dtype('int64'),\n",
       "   'Intensity50': dtype('int64'),\n",
       "   'Intensity51': dtype('int64'),\n",
       "   'Intensity52': dtype('int64'),\n",
       "   'Intensity53': dtype('int64'),\n",
       "   'Intensity54': dtype('int64'),\n",
       "   'Intensity55': dtype('int64'),\n",
       "   'Intensity56': dtype('int64'),\n",
       "   'Intensity57': dtype('int64'),\n",
       "   'Intensity58': dtype('int64'),\n",
       "   'Intensity59': dtype('int64')}},\n",
       " 'minuteMETsNarrow_merged.csv': {'name': 'minuteMETsNarrow_merged.csv',\n",
       "  'full_path': '/kaggle/input/fitbit/Fitabase Data 4.12.16-5.12.16/minuteMETsNarrow_merged.csv',\n",
       "  'size': 47686683,\n",
       "  'creation_time': '2021-04-14 10:42:06',\n",
       "  'modification_time': '2021-04-14 10:42:06',\n",
       "  'access_time': '2023-08-06 23:24:34',\n",
       "  'num_rows': 1325580,\n",
       "  'num_columns': 3,\n",
       "  'column_names_and_data_types': {'Id': dtype('int64'),\n",
       "   'ActivityMinute': dtype('O'),\n",
       "   'METs': dtype('int64')}},\n",
       " 'dailyCalories_merged.csv': {'name': 'dailyCalories_merged.csv',\n",
       "  'full_path': '/kaggle/input/fitbit/Fitabase Data 4.12.16-5.12.16/dailyCalories_merged.csv',\n",
       "  'size': 25125,\n",
       "  'creation_time': '2021-04-14 10:42:04',\n",
       "  'modification_time': '2021-04-14 10:42:04',\n",
       "  'access_time': '2023-08-06 23:24:35',\n",
       "  'num_rows': 940,\n",
       "  'num_columns': 3,\n",
       "  'column_names_and_data_types': {'Id': dtype('int64'),\n",
       "   'ActivityDay': dtype('O'),\n",
       "   'Calories': dtype('int64')}},\n",
       " 'hourlyCalories_merged.csv': {'name': 'hourlyCalories_merged.csv',\n",
       "  'full_path': '/kaggle/input/fitbit/Fitabase Data 4.12.16-5.12.16/hourlyCalories_merged.csv',\n",
       "  'size': 801486,\n",
       "  'creation_time': '2021-04-14 10:42:05',\n",
       "  'modification_time': '2021-04-14 10:42:05',\n",
       "  'access_time': '2023-08-06 23:24:35',\n",
       "  'num_rows': 22099,\n",
       "  'num_columns': 3,\n",
       "  'column_names_and_data_types': {'Id': dtype('int64'),\n",
       "   'ActivityHour': dtype('O'),\n",
       "   'Calories': dtype('int64')}},\n",
       " 'heartrate_seconds_merged.csv': {'name': 'heartrate_seconds_merged.csv',\n",
       "  'full_path': '/kaggle/input/fitbit/Fitabase Data 4.12.16-5.12.16/heartrate_seconds_merged.csv',\n",
       "  'size': 89588303,\n",
       "  'creation_time': '2021-04-14 10:42:08',\n",
       "  'modification_time': '2021-04-14 10:42:08',\n",
       "  'access_time': '2023-08-06 23:24:35',\n",
       "  'num_rows': 2483658,\n",
       "  'num_columns': 3,\n",
       "  'column_names_and_data_types': {'Id': dtype('int64'),\n",
       "   'Time': dtype('O'),\n",
       "   'Value': dtype('int64')}},\n",
       " 'minuteSleep_merged.csv': {'name': 'minuteSleep_merged.csv',\n",
       "  'full_path': '/kaggle/input/fitbit/Fitabase Data 4.12.16-5.12.16/minuteSleep_merged.csv',\n",
       "  'size': 8848370,\n",
       "  'creation_time': '2021-04-14 10:42:05',\n",
       "  'modification_time': '2021-04-14 10:42:05',\n",
       "  'access_time': '2023-08-06 23:24:39',\n",
       "  'num_rows': 188521,\n",
       "  'num_columns': 4,\n",
       "  'column_names_and_data_types': {'Id': dtype('int64'),\n",
       "   'date': dtype('O'),\n",
       "   'value': dtype('int64'),\n",
       "   'logId': dtype('int64')}},\n",
       " 'hourlyIntensities_merged.csv': {'name': 'hourlyIntensities_merged.csv',\n",
       "  'full_path': '/kaggle/input/fitbit/Fitabase Data 4.12.16-5.12.16/hourlyIntensities_merged.csv',\n",
       "  'size': 898778,\n",
       "  'creation_time': '2021-04-14 10:42:05',\n",
       "  'modification_time': '2021-04-14 10:42:05',\n",
       "  'access_time': '2023-08-06 23:24:39',\n",
       "  'num_rows': 22099,\n",
       "  'num_columns': 4,\n",
       "  'column_names_and_data_types': {'Id': dtype('int64'),\n",
       "   'ActivityHour': dtype('O'),\n",
       "   'TotalIntensity': dtype('int64'),\n",
       "   'AverageIntensity': dtype('float64')}},\n",
       " 'hourlySteps_merged.csv': {'name': 'hourlySteps_merged.csv',\n",
       "  'full_path': '/kaggle/input/fitbit/Fitabase Data 4.12.16-5.12.16/hourlySteps_merged.csv',\n",
       "  'size': 796562,\n",
       "  'creation_time': '2021-04-14 10:42:05',\n",
       "  'modification_time': '2021-04-14 10:42:05',\n",
       "  'access_time': '2023-08-06 23:24:39',\n",
       "  'num_rows': 22099,\n",
       "  'num_columns': 3,\n",
       "  'column_names_and_data_types': {'Id': dtype('int64'),\n",
       "   'ActivityHour': dtype('O'),\n",
       "   'StepTotal': dtype('int64')}},\n",
       " 'minuteStepsNarrow_merged.csv': {'name': 'minuteStepsNarrow_merged.csv',\n",
       "  'full_path': '/kaggle/input/fitbit/Fitabase Data 4.12.16-5.12.16/minuteStepsNarrow_merged.csv',\n",
       "  'size': 46531957,\n",
       "  'creation_time': '2021-04-14 10:42:06',\n",
       "  'modification_time': '2021-04-14 10:42:06',\n",
       "  'access_time': '2023-08-06 23:24:39',\n",
       "  'num_rows': 1325580,\n",
       "  'num_columns': 3,\n",
       "  'column_names_and_data_types': {'Id': dtype('int64'),\n",
       "   'ActivityMinute': dtype('O'),\n",
       "   'Steps': dtype('int64')}},\n",
       " 'dailySteps_merged.csv': {'name': 'dailySteps_merged.csv',\n",
       "  'full_path': '/kaggle/input/fitbit/Fitabase Data 4.12.16-5.12.16/dailySteps_merged.csv',\n",
       "  'size': 25175,\n",
       "  'creation_time': '2021-04-14 10:42:05',\n",
       "  'modification_time': '2021-04-14 10:42:05',\n",
       "  'access_time': '2023-08-06 23:24:40',\n",
       "  'num_rows': 940,\n",
       "  'num_columns': 3,\n",
       "  'column_names_and_data_types': {'Id': dtype('int64'),\n",
       "   'ActivityDay': dtype('O'),\n",
       "   'StepTotal': dtype('int64')}},\n",
       " 'minuteStepsWide_merged.csv': {'name': 'minuteStepsWide_merged.csv',\n",
       "  'full_path': '/kaggle/input/fitbit/Fitabase Data 4.12.16-5.12.16/minuteStepsWide_merged.csv',\n",
       "  'size': 3481174,\n",
       "  'creation_time': '2021-04-14 10:42:05',\n",
       "  'modification_time': '2021-04-14 10:42:05',\n",
       "  'access_time': '2023-08-06 23:24:40',\n",
       "  'num_rows': 21645,\n",
       "  'num_columns': 62,\n",
       "  'column_names_and_data_types': {'Id': dtype('int64'),\n",
       "   'ActivityHour': dtype('O'),\n",
       "   'Steps00': dtype('int64'),\n",
       "   'Steps01': dtype('int64'),\n",
       "   'Steps02': dtype('int64'),\n",
       "   'Steps03': dtype('int64'),\n",
       "   'Steps04': dtype('int64'),\n",
       "   'Steps05': dtype('int64'),\n",
       "   'Steps06': dtype('int64'),\n",
       "   'Steps07': dtype('int64'),\n",
       "   'Steps08': dtype('int64'),\n",
       "   'Steps09': dtype('int64'),\n",
       "   'Steps10': dtype('int64'),\n",
       "   'Steps11': dtype('int64'),\n",
       "   'Steps12': dtype('int64'),\n",
       "   'Steps13': dtype('int64'),\n",
       "   'Steps14': dtype('int64'),\n",
       "   'Steps15': dtype('int64'),\n",
       "   'Steps16': dtype('int64'),\n",
       "   'Steps17': dtype('int64'),\n",
       "   'Steps18': dtype('int64'),\n",
       "   'Steps19': dtype('int64'),\n",
       "   'Steps20': dtype('int64'),\n",
       "   'Steps21': dtype('int64'),\n",
       "   'Steps22': dtype('int64'),\n",
       "   'Steps23': dtype('int64'),\n",
       "   'Steps24': dtype('int64'),\n",
       "   'Steps25': dtype('int64'),\n",
       "   'Steps26': dtype('int64'),\n",
       "   'Steps27': dtype('int64'),\n",
       "   'Steps28': dtype('int64'),\n",
       "   'Steps29': dtype('int64'),\n",
       "   'Steps30': dtype('int64'),\n",
       "   'Steps31': dtype('int64'),\n",
       "   'Steps32': dtype('int64'),\n",
       "   'Steps33': dtype('int64'),\n",
       "   'Steps34': dtype('int64'),\n",
       "   'Steps35': dtype('int64'),\n",
       "   'Steps36': dtype('int64'),\n",
       "   'Steps37': dtype('int64'),\n",
       "   'Steps38': dtype('int64'),\n",
       "   'Steps39': dtype('int64'),\n",
       "   'Steps40': dtype('int64'),\n",
       "   'Steps41': dtype('int64'),\n",
       "   'Steps42': dtype('int64'),\n",
       "   'Steps43': dtype('int64'),\n",
       "   'Steps44': dtype('int64'),\n",
       "   'Steps45': dtype('int64'),\n",
       "   'Steps46': dtype('int64'),\n",
       "   'Steps47': dtype('int64'),\n",
       "   'Steps48': dtype('int64'),\n",
       "   'Steps49': dtype('int64'),\n",
       "   'Steps50': dtype('int64'),\n",
       "   'Steps51': dtype('int64'),\n",
       "   'Steps52': dtype('int64'),\n",
       "   'Steps53': dtype('int64'),\n",
       "   'Steps54': dtype('int64'),\n",
       "   'Steps55': dtype('int64'),\n",
       "   'Steps56': dtype('int64'),\n",
       "   'Steps57': dtype('int64'),\n",
       "   'Steps58': dtype('int64'),\n",
       "   'Steps59': dtype('int64')}},\n",
       " 'minuteIntensitiesNarrow_merged.csv': {'name': 'minuteIntensitiesNarrow_merged.csv',\n",
       "  'full_path': '/kaggle/input/fitbit/Fitabase Data 4.12.16-5.12.16/minuteIntensitiesNarrow_merged.csv',\n",
       "  'size': 46358789,\n",
       "  'creation_time': '2021-04-14 10:42:06',\n",
       "  'modification_time': '2021-04-14 10:42:06',\n",
       "  'access_time': '2023-08-06 23:24:40',\n",
       "  'num_rows': 1325580,\n",
       "  'num_columns': 3,\n",
       "  'column_names_and_data_types': {'Id': dtype('int64'),\n",
       "   'ActivityMinute': dtype('O'),\n",
       "   'Intensity': dtype('int64')}},\n",
       " 'minuteCaloriesWide_merged.csv': {'name': 'minuteCaloriesWide_merged.csv',\n",
       "  'full_path': '/kaggle/input/fitbit/Fitabase Data 4.12.16-5.12.16/minuteCaloriesWide_merged.csv',\n",
       "  'size': 22993081,\n",
       "  'creation_time': '2021-04-14 10:42:06',\n",
       "  'modification_time': '2021-04-14 10:42:06',\n",
       "  'access_time': '2023-08-06 23:24:42',\n",
       "  'num_rows': 21645,\n",
       "  'num_columns': 62,\n",
       "  'column_names_and_data_types': {'Id': dtype('int64'),\n",
       "   'ActivityHour': dtype('O'),\n",
       "   'Calories00': dtype('float64'),\n",
       "   'Calories01': dtype('float64'),\n",
       "   'Calories02': dtype('float64'),\n",
       "   'Calories03': dtype('float64'),\n",
       "   'Calories04': dtype('float64'),\n",
       "   'Calories05': dtype('float64'),\n",
       "   'Calories06': dtype('float64'),\n",
       "   'Calories07': dtype('float64'),\n",
       "   'Calories08': dtype('float64'),\n",
       "   'Calories09': dtype('float64'),\n",
       "   'Calories10': dtype('float64'),\n",
       "   'Calories11': dtype('float64'),\n",
       "   'Calories12': dtype('float64'),\n",
       "   'Calories13': dtype('float64'),\n",
       "   'Calories14': dtype('float64'),\n",
       "   'Calories15': dtype('float64'),\n",
       "   'Calories16': dtype('float64'),\n",
       "   'Calories17': dtype('float64'),\n",
       "   'Calories18': dtype('float64'),\n",
       "   'Calories19': dtype('float64'),\n",
       "   'Calories20': dtype('float64'),\n",
       "   'Calories21': dtype('float64'),\n",
       "   'Calories22': dtype('float64'),\n",
       "   'Calories23': dtype('float64'),\n",
       "   'Calories24': dtype('float64'),\n",
       "   'Calories25': dtype('float64'),\n",
       "   'Calories26': dtype('float64'),\n",
       "   'Calories27': dtype('float64'),\n",
       "   'Calories28': dtype('float64'),\n",
       "   'Calories29': dtype('float64'),\n",
       "   'Calories30': dtype('float64'),\n",
       "   'Calories31': dtype('float64'),\n",
       "   'Calories32': dtype('float64'),\n",
       "   'Calories33': dtype('float64'),\n",
       "   'Calories34': dtype('float64'),\n",
       "   'Calories35': dtype('float64'),\n",
       "   'Calories36': dtype('float64'),\n",
       "   'Calories37': dtype('float64'),\n",
       "   'Calories38': dtype('float64'),\n",
       "   'Calories39': dtype('float64'),\n",
       "   'Calories40': dtype('float64'),\n",
       "   'Calories41': dtype('float64'),\n",
       "   'Calories42': dtype('float64'),\n",
       "   'Calories43': dtype('float64'),\n",
       "   'Calories44': dtype('float64'),\n",
       "   'Calories45': dtype('float64'),\n",
       "   'Calories46': dtype('float64'),\n",
       "   'Calories47': dtype('float64'),\n",
       "   'Calories48': dtype('float64'),\n",
       "   'Calories49': dtype('float64'),\n",
       "   'Calories50': dtype('float64'),\n",
       "   'Calories51': dtype('float64'),\n",
       "   'Calories52': dtype('float64'),\n",
       "   'Calories53': dtype('float64'),\n",
       "   'Calories54': dtype('float64'),\n",
       "   'Calories55': dtype('float64'),\n",
       "   'Calories56': dtype('float64'),\n",
       "   'Calories57': dtype('float64'),\n",
       "   'Calories58': dtype('float64'),\n",
       "   'Calories59': dtype('float64')}},\n",
       " 'dailyActivity_merged.csv': {'name': 'dailyActivity_merged.csv',\n",
       "  'full_path': '/kaggle/input/fitbit/Fitabase Data 4.12.16-5.12.16/dailyActivity_merged.csv',\n",
       "  'size': 111288,\n",
       "  'creation_time': '2021-04-14 10:42:05',\n",
       "  'modification_time': '2021-04-14 10:42:05',\n",
       "  'access_time': '2023-08-06 23:24:42',\n",
       "  'num_rows': 940,\n",
       "  'num_columns': 15,\n",
       "  'column_names_and_data_types': {'Id': dtype('int64'),\n",
       "   'ActivityDate': dtype('O'),\n",
       "   'TotalSteps': dtype('int64'),\n",
       "   'TotalDistance': dtype('float64'),\n",
       "   'TrackerDistance': dtype('float64'),\n",
       "   'LoggedActivitiesDistance': dtype('float64'),\n",
       "   'VeryActiveDistance': dtype('float64'),\n",
       "   'ModeratelyActiveDistance': dtype('float64'),\n",
       "   'LightActiveDistance': dtype('float64'),\n",
       "   'SedentaryActiveDistance': dtype('float64'),\n",
       "   'VeryActiveMinutes': dtype('int64'),\n",
       "   'FairlyActiveMinutes': dtype('int64'),\n",
       "   'LightlyActiveMinutes': dtype('int64'),\n",
       "   'SedentaryMinutes': dtype('int64'),\n",
       "   'Calories': dtype('int64')}}}"
      ]
     },
     "execution_count": 8,
     "metadata": {},
     "output_type": "execute_result"
    }
   ],
   "source": [
    "get_files_info(path)"
   ]
  },
  {
   "cell_type": "markdown",
   "id": "2855fe7d",
   "metadata": {
    "papermill": {
     "duration": 0.023686,
     "end_time": "2023-08-06T23:24:49.893316",
     "exception": false,
     "start_time": "2023-08-06T23:24:49.869630",
     "status": "completed"
    },
    "tags": []
   },
   "source": [
    "<a id=\"Data_Limitations_Integrity\"></a>\n",
    "#### 3.4 Data Limitations & Integrity:\n",
    "\n",
    "* Data collected in 2016, limiting current trend analysis\n",
    "* Actual data collection period was 31 days, not the initially stated range\n",
    "* Small sample size and lack of demographic information may introduce bias and limit targeted recommendations for specific audiences\n"
   ]
  },
  {
   "cell_type": "code",
   "execution_count": 9,
   "id": "e46baf3e",
   "metadata": {
    "execution": {
     "iopub.execute_input": "2023-08-06T23:24:49.941293Z",
     "iopub.status.busy": "2023-08-06T23:24:49.940892Z",
     "iopub.status.idle": "2023-08-06T23:25:02.517506Z",
     "shell.execute_reply": "2023-08-06T23:25:02.516025Z"
    },
    "papermill": {
     "duration": 12.603591,
     "end_time": "2023-08-06T23:25:02.520024",
     "exception": false,
     "start_time": "2023-08-06T23:24:49.916433",
     "status": "completed"
    },
    "tags": []
   },
   "outputs": [
    {
     "name": "stdout",
     "output_type": "stream",
     "text": [
      "Data integrity check for file: minuteCaloriesNarrow_merged.csv\n",
      "Missing values in each column:\n",
      "Id                0\n",
      "ActivityMinute    0\n",
      "Calories          0\n",
      "dtype: int64\n",
      "Number of duplicate rows in the DataFrame: 0\n",
      "Data integrity check for file: weightLogInfo_merged.csv\n",
      "Missing values in each column:\n",
      "Id                 0\n",
      "Date               0\n",
      "WeightKg           0\n",
      "WeightPounds       0\n",
      "Fat               65\n",
      "BMI                0\n",
      "IsManualReport     0\n",
      "LogId              0\n",
      "dtype: int64\n",
      "Number of duplicate rows in the DataFrame: 0\n",
      "Data integrity check for file: sleepDay_merged.csv\n",
      "Missing values in each column:\n",
      "Id                    0\n",
      "SleepDay              0\n",
      "TotalSleepRecords     0\n",
      "TotalMinutesAsleep    0\n",
      "TotalTimeInBed        0\n",
      "dtype: int64\n",
      "Number of duplicate rows in the DataFrame: 3\n",
      "Data integrity check for file: dailyIntensities_merged.csv\n",
      "Missing values in each column:\n",
      "Id                          0\n",
      "ActivityDay                 0\n",
      "SedentaryMinutes            0\n",
      "LightlyActiveMinutes        0\n",
      "FairlyActiveMinutes         0\n",
      "VeryActiveMinutes           0\n",
      "SedentaryActiveDistance     0\n",
      "LightActiveDistance         0\n",
      "ModeratelyActiveDistance    0\n",
      "VeryActiveDistance          0\n",
      "dtype: int64\n",
      "Number of duplicate rows in the DataFrame: 0\n",
      "Data integrity check for file: minuteIntensitiesWide_merged.csv\n",
      "Missing values in each column:\n",
      "Id              0\n",
      "ActivityHour    0\n",
      "Intensity00     0\n",
      "Intensity01     0\n",
      "Intensity02     0\n",
      "               ..\n",
      "Intensity55     0\n",
      "Intensity56     0\n",
      "Intensity57     0\n",
      "Intensity58     0\n",
      "Intensity59     0\n",
      "Length: 62, dtype: int64\n",
      "Number of duplicate rows in the DataFrame: 0\n",
      "Data integrity check for file: minuteMETsNarrow_merged.csv\n",
      "Missing values in each column:\n",
      "Id                0\n",
      "ActivityMinute    0\n",
      "METs              0\n",
      "dtype: int64\n",
      "Number of duplicate rows in the DataFrame: 0\n",
      "Data integrity check for file: dailyCalories_merged.csv\n",
      "Missing values in each column:\n",
      "Id             0\n",
      "ActivityDay    0\n",
      "Calories       0\n",
      "dtype: int64\n",
      "Number of duplicate rows in the DataFrame: 0\n",
      "Data integrity check for file: hourlyCalories_merged.csv\n",
      "Missing values in each column:\n",
      "Id              0\n",
      "ActivityHour    0\n",
      "Calories        0\n",
      "dtype: int64\n",
      "Number of duplicate rows in the DataFrame: 0\n",
      "Data integrity check for file: heartrate_seconds_merged.csv\n",
      "Missing values in each column:\n",
      "Id       0\n",
      "Time     0\n",
      "Value    0\n",
      "dtype: int64\n",
      "Number of duplicate rows in the DataFrame: 0\n",
      "Data integrity check for file: minuteSleep_merged.csv\n",
      "Missing values in each column:\n",
      "Id       0\n",
      "date     0\n",
      "value    0\n",
      "logId    0\n",
      "dtype: int64\n",
      "Number of duplicate rows in the DataFrame: 543\n",
      "Data integrity check for file: hourlyIntensities_merged.csv\n",
      "Missing values in each column:\n",
      "Id                  0\n",
      "ActivityHour        0\n",
      "TotalIntensity      0\n",
      "AverageIntensity    0\n",
      "dtype: int64\n",
      "Number of duplicate rows in the DataFrame: 0\n",
      "Data integrity check for file: hourlySteps_merged.csv\n",
      "Missing values in each column:\n",
      "Id              0\n",
      "ActivityHour    0\n",
      "StepTotal       0\n",
      "dtype: int64\n",
      "Number of duplicate rows in the DataFrame: 0\n",
      "Data integrity check for file: minuteStepsNarrow_merged.csv\n",
      "Missing values in each column:\n",
      "Id                0\n",
      "ActivityMinute    0\n",
      "Steps             0\n",
      "dtype: int64\n",
      "Number of duplicate rows in the DataFrame: 0\n",
      "Data integrity check for file: dailySteps_merged.csv\n",
      "Missing values in each column:\n",
      "Id             0\n",
      "ActivityDay    0\n",
      "StepTotal      0\n",
      "dtype: int64\n",
      "Number of duplicate rows in the DataFrame: 0\n",
      "Data integrity check for file: minuteStepsWide_merged.csv\n",
      "Missing values in each column:\n",
      "Id              0\n",
      "ActivityHour    0\n",
      "Steps00         0\n",
      "Steps01         0\n",
      "Steps02         0\n",
      "               ..\n",
      "Steps55         0\n",
      "Steps56         0\n",
      "Steps57         0\n",
      "Steps58         0\n",
      "Steps59         0\n",
      "Length: 62, dtype: int64\n",
      "Number of duplicate rows in the DataFrame: 0\n",
      "Data integrity check for file: minuteIntensitiesNarrow_merged.csv\n",
      "Missing values in each column:\n",
      "Id                0\n",
      "ActivityMinute    0\n",
      "Intensity         0\n",
      "dtype: int64\n",
      "Number of duplicate rows in the DataFrame: 0\n",
      "Data integrity check for file: minuteCaloriesWide_merged.csv\n",
      "Missing values in each column:\n",
      "Id              0\n",
      "ActivityHour    0\n",
      "Calories00      0\n",
      "Calories01      0\n",
      "Calories02      0\n",
      "               ..\n",
      "Calories55      0\n",
      "Calories56      0\n",
      "Calories57      0\n",
      "Calories58      0\n",
      "Calories59      0\n",
      "Length: 62, dtype: int64\n",
      "Number of duplicate rows in the DataFrame: 0\n",
      "Data integrity check for file: dailyActivity_merged.csv\n",
      "Missing values in each column:\n",
      "Id                          0\n",
      "ActivityDate                0\n",
      "TotalSteps                  0\n",
      "TotalDistance               0\n",
      "TrackerDistance             0\n",
      "LoggedActivitiesDistance    0\n",
      "VeryActiveDistance          0\n",
      "ModeratelyActiveDistance    0\n",
      "LightActiveDistance         0\n",
      "SedentaryActiveDistance     0\n",
      "VeryActiveMinutes           0\n",
      "FairlyActiveMinutes         0\n",
      "LightlyActiveMinutes        0\n",
      "SedentaryMinutes            0\n",
      "Calories                    0\n",
      "dtype: int64\n",
      "Number of duplicate rows in the DataFrame: 0\n"
     ]
    }
   ],
   "source": [
    "all_files = os.listdir(path)\n",
    "\n",
    "# Filter only CSV files\n",
    "csv_files = [file for file in all_files if file.endswith('.csv')]\n",
    "\n",
    "# Iterate through each CSV file and perform data integrity checks\n",
    "for file in csv_files:\n",
    "    file_path = os.path.join(path, file)\n",
    "    print(f\"Data integrity check for file: {file}\")\n",
    "    \n",
    "    # Load the data into a pandas DataFrame\n",
    "    df = pd.read_csv(file_path)\n",
    "    \n",
    "    # Check for missing values\n",
    "    missing_values = df.isnull().sum()\n",
    "    print(\"Missing values in each column:\")\n",
    "    print(missing_values)\n",
    "    \n",
    "    # Check for duplicates\n",
    "    duplicates = df.duplicated().sum()\n",
    "    print(\"Number of duplicate rows in the DataFrame:\", duplicates)"
   ]
  },
  {
   "cell_type": "markdown",
   "id": "6410ae43",
   "metadata": {
    "papermill": {
     "duration": 0.024068,
     "end_time": "2023-08-06T23:25:02.568448",
     "exception": false,
     "start_time": "2023-08-06T23:25:02.544380",
     "status": "completed"
    },
    "tags": []
   },
   "source": [
    "The data includes various CSV files with information on daily activity, calories, steps, heart rate, sleep, and weight log for multiple individuals. Data integrity checks were performed for each file, revealing no missing values or duplicate rows in most files. **However, two files have duplicate rows: \"minuteSleep_merged.csv\" with 543 duplicates and \"sleepDay_merged.csv\" with 3 duplicates. Additionally, the \"weightLogInfo_merged.csv\" file contains some missing values in the 'Fat' column.**"
   ]
  },
  {
   "cell_type": "markdown",
   "id": "2386189b",
   "metadata": {
    "papermill": {
     "duration": 0.023829,
     "end_time": "2023-08-06T23:25:02.616477",
     "exception": false,
     "start_time": "2023-08-06T23:25:02.592648",
     "status": "completed"
    },
    "tags": []
   },
   "source": [
    "[Back to Table of Contents](#Table_of_Contents)\n",
    "<a id=\"Process\"></a>\n",
    "### 4. Process"
   ]
  },
  {
   "cell_type": "markdown",
   "id": "c462315a",
   "metadata": {
    "papermill": {
     "duration": 0.024556,
     "end_time": "2023-08-06T23:25:02.666063",
     "exception": false,
     "start_time": "2023-08-06T23:25:02.641507",
     "status": "completed"
    },
    "tags": []
   },
   "source": [
    "**I am captivated by the idea of investigating how different levels of physical activity affect calorie burning at various times. My plan involves conducting research, utilizing data visualization to analyze the data, and applying machine learning techniques for predictive insights. Ultimately, this research could benefit the company by enabling the development of personalized exercise plans tailored to individual client needs, based on the findings.**"
   ]
  },
  {
   "cell_type": "markdown",
   "id": "d70a4350",
   "metadata": {
    "papermill": {
     "duration": 0.023831,
     "end_time": "2023-08-06T23:25:02.714968",
     "exception": false,
     "start_time": "2023-08-06T23:25:02.691137",
     "status": "completed"
    },
    "tags": []
   },
   "source": [
    "<a id=\"Import_Data_and_Preview\"></a>\n",
    "#### 4.1 Import Data and Preview\n",
    "\n",
    "* hourlyCalories_merged.csv\n",
    "* hourlyIntensities_merged.csv"
   ]
  },
  {
   "cell_type": "code",
   "execution_count": 10,
   "id": "8494935e",
   "metadata": {
    "execution": {
     "iopub.execute_input": "2023-08-06T23:25:02.765475Z",
     "iopub.status.busy": "2023-08-06T23:25:02.765034Z",
     "iopub.status.idle": "2023-08-06T23:25:02.794422Z",
     "shell.execute_reply": "2023-08-06T23:25:02.793585Z"
    },
    "papermill": {
     "duration": 0.0574,
     "end_time": "2023-08-06T23:25:02.796624",
     "exception": false,
     "start_time": "2023-08-06T23:25:02.739224",
     "status": "completed"
    },
    "tags": []
   },
   "outputs": [
    {
     "data": {
      "text/html": [
       "<div>\n",
       "<style scoped>\n",
       "    .dataframe tbody tr th:only-of-type {\n",
       "        vertical-align: middle;\n",
       "    }\n",
       "\n",
       "    .dataframe tbody tr th {\n",
       "        vertical-align: top;\n",
       "    }\n",
       "\n",
       "    .dataframe thead th {\n",
       "        text-align: right;\n",
       "    }\n",
       "</style>\n",
       "<table border=\"1\" class=\"dataframe\">\n",
       "  <thead>\n",
       "    <tr style=\"text-align: right;\">\n",
       "      <th></th>\n",
       "      <th>Id</th>\n",
       "      <th>ActivityHour</th>\n",
       "      <th>Calories</th>\n",
       "    </tr>\n",
       "  </thead>\n",
       "  <tbody>\n",
       "    <tr>\n",
       "      <th>0</th>\n",
       "      <td>1503960366</td>\n",
       "      <td>4/12/2016 12:00:00 AM</td>\n",
       "      <td>81</td>\n",
       "    </tr>\n",
       "    <tr>\n",
       "      <th>1</th>\n",
       "      <td>1503960366</td>\n",
       "      <td>4/12/2016 1:00:00 AM</td>\n",
       "      <td>61</td>\n",
       "    </tr>\n",
       "    <tr>\n",
       "      <th>2</th>\n",
       "      <td>1503960366</td>\n",
       "      <td>4/12/2016 2:00:00 AM</td>\n",
       "      <td>59</td>\n",
       "    </tr>\n",
       "    <tr>\n",
       "      <th>3</th>\n",
       "      <td>1503960366</td>\n",
       "      <td>4/12/2016 3:00:00 AM</td>\n",
       "      <td>47</td>\n",
       "    </tr>\n",
       "    <tr>\n",
       "      <th>4</th>\n",
       "      <td>1503960366</td>\n",
       "      <td>4/12/2016 4:00:00 AM</td>\n",
       "      <td>48</td>\n",
       "    </tr>\n",
       "    <tr>\n",
       "      <th>...</th>\n",
       "      <td>...</td>\n",
       "      <td>...</td>\n",
       "      <td>...</td>\n",
       "    </tr>\n",
       "    <tr>\n",
       "      <th>22094</th>\n",
       "      <td>8877689391</td>\n",
       "      <td>5/12/2016 10:00:00 AM</td>\n",
       "      <td>126</td>\n",
       "    </tr>\n",
       "    <tr>\n",
       "      <th>22095</th>\n",
       "      <td>8877689391</td>\n",
       "      <td>5/12/2016 11:00:00 AM</td>\n",
       "      <td>192</td>\n",
       "    </tr>\n",
       "    <tr>\n",
       "      <th>22096</th>\n",
       "      <td>8877689391</td>\n",
       "      <td>5/12/2016 12:00:00 PM</td>\n",
       "      <td>321</td>\n",
       "    </tr>\n",
       "    <tr>\n",
       "      <th>22097</th>\n",
       "      <td>8877689391</td>\n",
       "      <td>5/12/2016 1:00:00 PM</td>\n",
       "      <td>101</td>\n",
       "    </tr>\n",
       "    <tr>\n",
       "      <th>22098</th>\n",
       "      <td>8877689391</td>\n",
       "      <td>5/12/2016 2:00:00 PM</td>\n",
       "      <td>113</td>\n",
       "    </tr>\n",
       "  </tbody>\n",
       "</table>\n",
       "<p>22099 rows × 3 columns</p>\n",
       "</div>"
      ],
      "text/plain": [
       "               Id           ActivityHour  Calories\n",
       "0      1503960366  4/12/2016 12:00:00 AM        81\n",
       "1      1503960366   4/12/2016 1:00:00 AM        61\n",
       "2      1503960366   4/12/2016 2:00:00 AM        59\n",
       "3      1503960366   4/12/2016 3:00:00 AM        47\n",
       "4      1503960366   4/12/2016 4:00:00 AM        48\n",
       "...           ...                    ...       ...\n",
       "22094  8877689391  5/12/2016 10:00:00 AM       126\n",
       "22095  8877689391  5/12/2016 11:00:00 AM       192\n",
       "22096  8877689391  5/12/2016 12:00:00 PM       321\n",
       "22097  8877689391   5/12/2016 1:00:00 PM       101\n",
       "22098  8877689391   5/12/2016 2:00:00 PM       113\n",
       "\n",
       "[22099 rows x 3 columns]"
      ]
     },
     "execution_count": 10,
     "metadata": {},
     "output_type": "execute_result"
    }
   ],
   "source": [
    "hourlyCalories_df = pd.read_csv(path + 'hourlyCalories_merged.csv')\n",
    "hourlyCalories_df"
   ]
  },
  {
   "cell_type": "code",
   "execution_count": 11,
   "id": "66f671f1",
   "metadata": {
    "execution": {
     "iopub.execute_input": "2023-08-06T23:25:02.847692Z",
     "iopub.status.busy": "2023-08-06T23:25:02.847276Z",
     "iopub.status.idle": "2023-08-06T23:25:02.880112Z",
     "shell.execute_reply": "2023-08-06T23:25:02.878625Z"
    },
    "papermill": {
     "duration": 0.061562,
     "end_time": "2023-08-06T23:25:02.882574",
     "exception": false,
     "start_time": "2023-08-06T23:25:02.821012",
     "status": "completed"
    },
    "tags": []
   },
   "outputs": [
    {
     "data": {
      "text/html": [
       "<div>\n",
       "<style scoped>\n",
       "    .dataframe tbody tr th:only-of-type {\n",
       "        vertical-align: middle;\n",
       "    }\n",
       "\n",
       "    .dataframe tbody tr th {\n",
       "        vertical-align: top;\n",
       "    }\n",
       "\n",
       "    .dataframe thead th {\n",
       "        text-align: right;\n",
       "    }\n",
       "</style>\n",
       "<table border=\"1\" class=\"dataframe\">\n",
       "  <thead>\n",
       "    <tr style=\"text-align: right;\">\n",
       "      <th></th>\n",
       "      <th>Id</th>\n",
       "      <th>ActivityHour</th>\n",
       "      <th>TotalIntensity</th>\n",
       "      <th>AverageIntensity</th>\n",
       "    </tr>\n",
       "  </thead>\n",
       "  <tbody>\n",
       "    <tr>\n",
       "      <th>0</th>\n",
       "      <td>1503960366</td>\n",
       "      <td>4/12/2016 12:00:00 AM</td>\n",
       "      <td>20</td>\n",
       "      <td>0.333333</td>\n",
       "    </tr>\n",
       "    <tr>\n",
       "      <th>1</th>\n",
       "      <td>1503960366</td>\n",
       "      <td>4/12/2016 1:00:00 AM</td>\n",
       "      <td>8</td>\n",
       "      <td>0.133333</td>\n",
       "    </tr>\n",
       "    <tr>\n",
       "      <th>2</th>\n",
       "      <td>1503960366</td>\n",
       "      <td>4/12/2016 2:00:00 AM</td>\n",
       "      <td>7</td>\n",
       "      <td>0.116667</td>\n",
       "    </tr>\n",
       "    <tr>\n",
       "      <th>3</th>\n",
       "      <td>1503960366</td>\n",
       "      <td>4/12/2016 3:00:00 AM</td>\n",
       "      <td>0</td>\n",
       "      <td>0.000000</td>\n",
       "    </tr>\n",
       "    <tr>\n",
       "      <th>4</th>\n",
       "      <td>1503960366</td>\n",
       "      <td>4/12/2016 4:00:00 AM</td>\n",
       "      <td>0</td>\n",
       "      <td>0.000000</td>\n",
       "    </tr>\n",
       "    <tr>\n",
       "      <th>...</th>\n",
       "      <td>...</td>\n",
       "      <td>...</td>\n",
       "      <td>...</td>\n",
       "      <td>...</td>\n",
       "    </tr>\n",
       "    <tr>\n",
       "      <th>22094</th>\n",
       "      <td>8877689391</td>\n",
       "      <td>5/12/2016 10:00:00 AM</td>\n",
       "      <td>12</td>\n",
       "      <td>0.200000</td>\n",
       "    </tr>\n",
       "    <tr>\n",
       "      <th>22095</th>\n",
       "      <td>8877689391</td>\n",
       "      <td>5/12/2016 11:00:00 AM</td>\n",
       "      <td>29</td>\n",
       "      <td>0.483333</td>\n",
       "    </tr>\n",
       "    <tr>\n",
       "      <th>22096</th>\n",
       "      <td>8877689391</td>\n",
       "      <td>5/12/2016 12:00:00 PM</td>\n",
       "      <td>93</td>\n",
       "      <td>1.550000</td>\n",
       "    </tr>\n",
       "    <tr>\n",
       "      <th>22097</th>\n",
       "      <td>8877689391</td>\n",
       "      <td>5/12/2016 1:00:00 PM</td>\n",
       "      <td>6</td>\n",
       "      <td>0.100000</td>\n",
       "    </tr>\n",
       "    <tr>\n",
       "      <th>22098</th>\n",
       "      <td>8877689391</td>\n",
       "      <td>5/12/2016 2:00:00 PM</td>\n",
       "      <td>9</td>\n",
       "      <td>0.150000</td>\n",
       "    </tr>\n",
       "  </tbody>\n",
       "</table>\n",
       "<p>22099 rows × 4 columns</p>\n",
       "</div>"
      ],
      "text/plain": [
       "               Id           ActivityHour  TotalIntensity  AverageIntensity\n",
       "0      1503960366  4/12/2016 12:00:00 AM              20          0.333333\n",
       "1      1503960366   4/12/2016 1:00:00 AM               8          0.133333\n",
       "2      1503960366   4/12/2016 2:00:00 AM               7          0.116667\n",
       "3      1503960366   4/12/2016 3:00:00 AM               0          0.000000\n",
       "4      1503960366   4/12/2016 4:00:00 AM               0          0.000000\n",
       "...           ...                    ...             ...               ...\n",
       "22094  8877689391  5/12/2016 10:00:00 AM              12          0.200000\n",
       "22095  8877689391  5/12/2016 11:00:00 AM              29          0.483333\n",
       "22096  8877689391  5/12/2016 12:00:00 PM              93          1.550000\n",
       "22097  8877689391   5/12/2016 1:00:00 PM               6          0.100000\n",
       "22098  8877689391   5/12/2016 2:00:00 PM               9          0.150000\n",
       "\n",
       "[22099 rows x 4 columns]"
      ]
     },
     "execution_count": 11,
     "metadata": {},
     "output_type": "execute_result"
    }
   ],
   "source": [
    "hourlyIntensities_df = pd.read_csv(path + 'hourlyIntensities_merged.csv')\n",
    "hourlyIntensities_df"
   ]
  },
  {
   "cell_type": "markdown",
   "id": "e056ae08",
   "metadata": {
    "papermill": {
     "duration": 0.024528,
     "end_time": "2023-08-06T23:25:02.932563",
     "exception": false,
     "start_time": "2023-08-06T23:25:02.908035",
     "status": "completed"
    },
    "tags": []
   },
   "source": [
    "Convert 'activityhour' column to datetime type and add the 'date' and 'hour' columns"
   ]
  },
  {
   "cell_type": "code",
   "execution_count": 12,
   "id": "28d31105",
   "metadata": {
    "execution": {
     "iopub.execute_input": "2023-08-06T23:25:02.984102Z",
     "iopub.status.busy": "2023-08-06T23:25:02.983689Z",
     "iopub.status.idle": "2023-08-06T23:25:03.476293Z",
     "shell.execute_reply": "2023-08-06T23:25:03.475096Z"
    },
    "papermill": {
     "duration": 0.52136,
     "end_time": "2023-08-06T23:25:03.478845",
     "exception": false,
     "start_time": "2023-08-06T23:25:02.957485",
     "status": "completed"
    },
    "tags": []
   },
   "outputs": [
    {
     "data": {
      "text/html": [
       "<div>\n",
       "<style scoped>\n",
       "    .dataframe tbody tr th:only-of-type {\n",
       "        vertical-align: middle;\n",
       "    }\n",
       "\n",
       "    .dataframe tbody tr th {\n",
       "        vertical-align: top;\n",
       "    }\n",
       "\n",
       "    .dataframe thead th {\n",
       "        text-align: right;\n",
       "    }\n",
       "</style>\n",
       "<table border=\"1\" class=\"dataframe\">\n",
       "  <thead>\n",
       "    <tr style=\"text-align: right;\">\n",
       "      <th></th>\n",
       "      <th>Id</th>\n",
       "      <th>ActivityHour</th>\n",
       "      <th>Calories</th>\n",
       "      <th>date</th>\n",
       "      <th>hour</th>\n",
       "    </tr>\n",
       "  </thead>\n",
       "  <tbody>\n",
       "    <tr>\n",
       "      <th>0</th>\n",
       "      <td>1503960366</td>\n",
       "      <td>2016-04-12 00:00:00</td>\n",
       "      <td>81</td>\n",
       "      <td>04/12/2016</td>\n",
       "      <td>00</td>\n",
       "    </tr>\n",
       "    <tr>\n",
       "      <th>1</th>\n",
       "      <td>1503960366</td>\n",
       "      <td>2016-04-12 01:00:00</td>\n",
       "      <td>61</td>\n",
       "      <td>04/12/2016</td>\n",
       "      <td>01</td>\n",
       "    </tr>\n",
       "    <tr>\n",
       "      <th>2</th>\n",
       "      <td>1503960366</td>\n",
       "      <td>2016-04-12 02:00:00</td>\n",
       "      <td>59</td>\n",
       "      <td>04/12/2016</td>\n",
       "      <td>02</td>\n",
       "    </tr>\n",
       "    <tr>\n",
       "      <th>3</th>\n",
       "      <td>1503960366</td>\n",
       "      <td>2016-04-12 03:00:00</td>\n",
       "      <td>47</td>\n",
       "      <td>04/12/2016</td>\n",
       "      <td>03</td>\n",
       "    </tr>\n",
       "    <tr>\n",
       "      <th>4</th>\n",
       "      <td>1503960366</td>\n",
       "      <td>2016-04-12 04:00:00</td>\n",
       "      <td>48</td>\n",
       "      <td>04/12/2016</td>\n",
       "      <td>04</td>\n",
       "    </tr>\n",
       "    <tr>\n",
       "      <th>...</th>\n",
       "      <td>...</td>\n",
       "      <td>...</td>\n",
       "      <td>...</td>\n",
       "      <td>...</td>\n",
       "      <td>...</td>\n",
       "    </tr>\n",
       "    <tr>\n",
       "      <th>22094</th>\n",
       "      <td>8877689391</td>\n",
       "      <td>2016-05-12 10:00:00</td>\n",
       "      <td>126</td>\n",
       "      <td>05/12/2016</td>\n",
       "      <td>10</td>\n",
       "    </tr>\n",
       "    <tr>\n",
       "      <th>22095</th>\n",
       "      <td>8877689391</td>\n",
       "      <td>2016-05-12 11:00:00</td>\n",
       "      <td>192</td>\n",
       "      <td>05/12/2016</td>\n",
       "      <td>11</td>\n",
       "    </tr>\n",
       "    <tr>\n",
       "      <th>22096</th>\n",
       "      <td>8877689391</td>\n",
       "      <td>2016-05-12 12:00:00</td>\n",
       "      <td>321</td>\n",
       "      <td>05/12/2016</td>\n",
       "      <td>12</td>\n",
       "    </tr>\n",
       "    <tr>\n",
       "      <th>22097</th>\n",
       "      <td>8877689391</td>\n",
       "      <td>2016-05-12 13:00:00</td>\n",
       "      <td>101</td>\n",
       "      <td>05/12/2016</td>\n",
       "      <td>13</td>\n",
       "    </tr>\n",
       "    <tr>\n",
       "      <th>22098</th>\n",
       "      <td>8877689391</td>\n",
       "      <td>2016-05-12 14:00:00</td>\n",
       "      <td>113</td>\n",
       "      <td>05/12/2016</td>\n",
       "      <td>14</td>\n",
       "    </tr>\n",
       "  </tbody>\n",
       "</table>\n",
       "<p>22099 rows × 5 columns</p>\n",
       "</div>"
      ],
      "text/plain": [
       "               Id        ActivityHour  Calories        date hour\n",
       "0      1503960366 2016-04-12 00:00:00        81  04/12/2016   00\n",
       "1      1503960366 2016-04-12 01:00:00        61  04/12/2016   01\n",
       "2      1503960366 2016-04-12 02:00:00        59  04/12/2016   02\n",
       "3      1503960366 2016-04-12 03:00:00        47  04/12/2016   03\n",
       "4      1503960366 2016-04-12 04:00:00        48  04/12/2016   04\n",
       "...           ...                 ...       ...         ...  ...\n",
       "22094  8877689391 2016-05-12 10:00:00       126  05/12/2016   10\n",
       "22095  8877689391 2016-05-12 11:00:00       192  05/12/2016   11\n",
       "22096  8877689391 2016-05-12 12:00:00       321  05/12/2016   12\n",
       "22097  8877689391 2016-05-12 13:00:00       101  05/12/2016   13\n",
       "22098  8877689391 2016-05-12 14:00:00       113  05/12/2016   14\n",
       "\n",
       "[22099 rows x 5 columns]"
      ]
     },
     "execution_count": 12,
     "metadata": {},
     "output_type": "execute_result"
    }
   ],
   "source": [
    "hourlyCalories_df['ActivityHour'] = pd.to_datetime(hourlyCalories_df['ActivityHour'], format='%m/%d/%Y %I:%M:%S %p')\n",
    "\n",
    "hourlyCalories_df['date'] = hourlyCalories_df['ActivityHour'].dt.strftime('%m/%d/%Y')\n",
    "hourlyCalories_df['hour'] = hourlyCalories_df['ActivityHour'].dt.strftime('%H')\n",
    "hourlyCalories_df"
   ]
  },
  {
   "cell_type": "code",
   "execution_count": 13,
   "id": "502bd9f6",
   "metadata": {
    "execution": {
     "iopub.execute_input": "2023-08-06T23:25:03.531414Z",
     "iopub.status.busy": "2023-08-06T23:25:03.530950Z",
     "iopub.status.idle": "2023-08-06T23:25:04.019962Z",
     "shell.execute_reply": "2023-08-06T23:25:04.018740Z"
    },
    "papermill": {
     "duration": 0.51833,
     "end_time": "2023-08-06T23:25:04.022494",
     "exception": false,
     "start_time": "2023-08-06T23:25:03.504164",
     "status": "completed"
    },
    "tags": []
   },
   "outputs": [
    {
     "data": {
      "text/html": [
       "<div>\n",
       "<style scoped>\n",
       "    .dataframe tbody tr th:only-of-type {\n",
       "        vertical-align: middle;\n",
       "    }\n",
       "\n",
       "    .dataframe tbody tr th {\n",
       "        vertical-align: top;\n",
       "    }\n",
       "\n",
       "    .dataframe thead th {\n",
       "        text-align: right;\n",
       "    }\n",
       "</style>\n",
       "<table border=\"1\" class=\"dataframe\">\n",
       "  <thead>\n",
       "    <tr style=\"text-align: right;\">\n",
       "      <th></th>\n",
       "      <th>Id</th>\n",
       "      <th>ActivityHour</th>\n",
       "      <th>TotalIntensity</th>\n",
       "      <th>AverageIntensity</th>\n",
       "      <th>date</th>\n",
       "      <th>hour</th>\n",
       "    </tr>\n",
       "  </thead>\n",
       "  <tbody>\n",
       "    <tr>\n",
       "      <th>0</th>\n",
       "      <td>1503960366</td>\n",
       "      <td>2016-04-12 00:00:00</td>\n",
       "      <td>20</td>\n",
       "      <td>0.333333</td>\n",
       "      <td>04/12/2016</td>\n",
       "      <td>00</td>\n",
       "    </tr>\n",
       "    <tr>\n",
       "      <th>1</th>\n",
       "      <td>1503960366</td>\n",
       "      <td>2016-04-12 01:00:00</td>\n",
       "      <td>8</td>\n",
       "      <td>0.133333</td>\n",
       "      <td>04/12/2016</td>\n",
       "      <td>01</td>\n",
       "    </tr>\n",
       "    <tr>\n",
       "      <th>2</th>\n",
       "      <td>1503960366</td>\n",
       "      <td>2016-04-12 02:00:00</td>\n",
       "      <td>7</td>\n",
       "      <td>0.116667</td>\n",
       "      <td>04/12/2016</td>\n",
       "      <td>02</td>\n",
       "    </tr>\n",
       "    <tr>\n",
       "      <th>3</th>\n",
       "      <td>1503960366</td>\n",
       "      <td>2016-04-12 03:00:00</td>\n",
       "      <td>0</td>\n",
       "      <td>0.000000</td>\n",
       "      <td>04/12/2016</td>\n",
       "      <td>03</td>\n",
       "    </tr>\n",
       "    <tr>\n",
       "      <th>4</th>\n",
       "      <td>1503960366</td>\n",
       "      <td>2016-04-12 04:00:00</td>\n",
       "      <td>0</td>\n",
       "      <td>0.000000</td>\n",
       "      <td>04/12/2016</td>\n",
       "      <td>04</td>\n",
       "    </tr>\n",
       "    <tr>\n",
       "      <th>...</th>\n",
       "      <td>...</td>\n",
       "      <td>...</td>\n",
       "      <td>...</td>\n",
       "      <td>...</td>\n",
       "      <td>...</td>\n",
       "      <td>...</td>\n",
       "    </tr>\n",
       "    <tr>\n",
       "      <th>22094</th>\n",
       "      <td>8877689391</td>\n",
       "      <td>2016-05-12 10:00:00</td>\n",
       "      <td>12</td>\n",
       "      <td>0.200000</td>\n",
       "      <td>05/12/2016</td>\n",
       "      <td>10</td>\n",
       "    </tr>\n",
       "    <tr>\n",
       "      <th>22095</th>\n",
       "      <td>8877689391</td>\n",
       "      <td>2016-05-12 11:00:00</td>\n",
       "      <td>29</td>\n",
       "      <td>0.483333</td>\n",
       "      <td>05/12/2016</td>\n",
       "      <td>11</td>\n",
       "    </tr>\n",
       "    <tr>\n",
       "      <th>22096</th>\n",
       "      <td>8877689391</td>\n",
       "      <td>2016-05-12 12:00:00</td>\n",
       "      <td>93</td>\n",
       "      <td>1.550000</td>\n",
       "      <td>05/12/2016</td>\n",
       "      <td>12</td>\n",
       "    </tr>\n",
       "    <tr>\n",
       "      <th>22097</th>\n",
       "      <td>8877689391</td>\n",
       "      <td>2016-05-12 13:00:00</td>\n",
       "      <td>6</td>\n",
       "      <td>0.100000</td>\n",
       "      <td>05/12/2016</td>\n",
       "      <td>13</td>\n",
       "    </tr>\n",
       "    <tr>\n",
       "      <th>22098</th>\n",
       "      <td>8877689391</td>\n",
       "      <td>2016-05-12 14:00:00</td>\n",
       "      <td>9</td>\n",
       "      <td>0.150000</td>\n",
       "      <td>05/12/2016</td>\n",
       "      <td>14</td>\n",
       "    </tr>\n",
       "  </tbody>\n",
       "</table>\n",
       "<p>22099 rows × 6 columns</p>\n",
       "</div>"
      ],
      "text/plain": [
       "               Id        ActivityHour  TotalIntensity  AverageIntensity  \\\n",
       "0      1503960366 2016-04-12 00:00:00              20          0.333333   \n",
       "1      1503960366 2016-04-12 01:00:00               8          0.133333   \n",
       "2      1503960366 2016-04-12 02:00:00               7          0.116667   \n",
       "3      1503960366 2016-04-12 03:00:00               0          0.000000   \n",
       "4      1503960366 2016-04-12 04:00:00               0          0.000000   \n",
       "...           ...                 ...             ...               ...   \n",
       "22094  8877689391 2016-05-12 10:00:00              12          0.200000   \n",
       "22095  8877689391 2016-05-12 11:00:00              29          0.483333   \n",
       "22096  8877689391 2016-05-12 12:00:00              93          1.550000   \n",
       "22097  8877689391 2016-05-12 13:00:00               6          0.100000   \n",
       "22098  8877689391 2016-05-12 14:00:00               9          0.150000   \n",
       "\n",
       "             date hour  \n",
       "0      04/12/2016   00  \n",
       "1      04/12/2016   01  \n",
       "2      04/12/2016   02  \n",
       "3      04/12/2016   03  \n",
       "4      04/12/2016   04  \n",
       "...           ...  ...  \n",
       "22094  05/12/2016   10  \n",
       "22095  05/12/2016   11  \n",
       "22096  05/12/2016   12  \n",
       "22097  05/12/2016   13  \n",
       "22098  05/12/2016   14  \n",
       "\n",
       "[22099 rows x 6 columns]"
      ]
     },
     "execution_count": 13,
     "metadata": {},
     "output_type": "execute_result"
    }
   ],
   "source": [
    "hourlyIntensities_df['ActivityHour'] = pd.to_datetime(hourlyIntensities_df['ActivityHour'], format='%m/%d/%Y %I:%M:%S %p')\n",
    "\n",
    "hourlyIntensities_df['date'] = hourlyIntensities_df['ActivityHour'].dt.strftime('%m/%d/%Y')\n",
    "hourlyIntensities_df['hour'] = hourlyIntensities_df['ActivityHour'].dt.strftime('%H')\n",
    "hourlyIntensities_df"
   ]
  },
  {
   "cell_type": "markdown",
   "id": "d0dfb000",
   "metadata": {
    "papermill": {
     "duration": 0.025446,
     "end_time": "2023-08-06T23:25:04.073533",
     "exception": false,
     "start_time": "2023-08-06T23:25:04.048087",
     "status": "completed"
    },
    "tags": []
   },
   "source": [
    "<a id=\"Join_Two_CSV\"></a>\n",
    "#### 4.2 Join Two CSV\n",
    "\n",
    "hourlyCalories_df left join hourlyIntensities_df"
   ]
  },
  {
   "cell_type": "code",
   "execution_count": 14,
   "id": "b848149c",
   "metadata": {
    "execution": {
     "iopub.execute_input": "2023-08-06T23:25:04.129090Z",
     "iopub.status.busy": "2023-08-06T23:25:04.128674Z",
     "iopub.status.idle": "2023-08-06T23:25:04.604351Z",
     "shell.execute_reply": "2023-08-06T23:25:04.603233Z"
    },
    "papermill": {
     "duration": 0.505332,
     "end_time": "2023-08-06T23:25:04.607138",
     "exception": false,
     "start_time": "2023-08-06T23:25:04.101806",
     "status": "completed"
    },
    "scrolled": true,
    "tags": []
   },
   "outputs": [],
   "source": [
    "# Create an in-memory SQLite database\n",
    "conn = sqlite3.connect('Calories_Intensities')\n",
    "\n",
    "# Load data into temporary SQLite tables\n",
    "hourlyCalories_df.to_sql('hourlyCalories', conn, index=False, if_exists='replace')\n",
    "hourlyIntensities_df.to_sql('hourlyIntensities', conn, index=False, if_exists='replace')\n",
    "\n",
    "# Perform left join using SQLite query\n",
    "query = '''\n",
    "SELECT hc.date, hc.hour, hc.Calories, hi.TotalIntensity\n",
    "FROM hourlyCalories hc\n",
    "LEFT JOIN hourlyIntensities hi\n",
    "ON hc.Id = hi.Id AND hc.date = hi.date AND hc.hour = hi.hour;\n",
    "'''\n",
    "\n",
    "Calories_Intensities_df = pd.read_sql(query, conn)\n",
    "\n",
    "# Close the database connection\n",
    "conn.close()"
   ]
  },
  {
   "cell_type": "markdown",
   "id": "b601a09e",
   "metadata": {
    "papermill": {
     "duration": 0.02544,
     "end_time": "2023-08-06T23:25:04.658667",
     "exception": false,
     "start_time": "2023-08-06T23:25:04.633227",
     "status": "completed"
    },
    "tags": []
   },
   "source": [
    "<a id=\"Joined_Data_Cleaning_and_Preview\"></a>\n",
    "#### 4.3 Joined Data Cleaning and Preview"
   ]
  },
  {
   "cell_type": "code",
   "execution_count": 15,
   "id": "01c38aa5",
   "metadata": {
    "execution": {
     "iopub.execute_input": "2023-08-06T23:25:04.712132Z",
     "iopub.status.busy": "2023-08-06T23:25:04.711751Z",
     "iopub.status.idle": "2023-08-06T23:25:04.723492Z",
     "shell.execute_reply": "2023-08-06T23:25:04.722345Z"
    },
    "papermill": {
     "duration": 0.041328,
     "end_time": "2023-08-06T23:25:04.726015",
     "exception": false,
     "start_time": "2023-08-06T23:25:04.684687",
     "status": "completed"
    },
    "tags": []
   },
   "outputs": [
    {
     "data": {
      "text/html": [
       "<div>\n",
       "<style scoped>\n",
       "    .dataframe tbody tr th:only-of-type {\n",
       "        vertical-align: middle;\n",
       "    }\n",
       "\n",
       "    .dataframe tbody tr th {\n",
       "        vertical-align: top;\n",
       "    }\n",
       "\n",
       "    .dataframe thead th {\n",
       "        text-align: right;\n",
       "    }\n",
       "</style>\n",
       "<table border=\"1\" class=\"dataframe\">\n",
       "  <thead>\n",
       "    <tr style=\"text-align: right;\">\n",
       "      <th></th>\n",
       "      <th>date</th>\n",
       "      <th>hour</th>\n",
       "      <th>Calories</th>\n",
       "      <th>TotalIntensity</th>\n",
       "    </tr>\n",
       "  </thead>\n",
       "  <tbody>\n",
       "    <tr>\n",
       "      <th>0</th>\n",
       "      <td>04/12/2016</td>\n",
       "      <td>00</td>\n",
       "      <td>81</td>\n",
       "      <td>20</td>\n",
       "    </tr>\n",
       "    <tr>\n",
       "      <th>1</th>\n",
       "      <td>04/12/2016</td>\n",
       "      <td>01</td>\n",
       "      <td>61</td>\n",
       "      <td>8</td>\n",
       "    </tr>\n",
       "    <tr>\n",
       "      <th>2</th>\n",
       "      <td>04/12/2016</td>\n",
       "      <td>02</td>\n",
       "      <td>59</td>\n",
       "      <td>7</td>\n",
       "    </tr>\n",
       "    <tr>\n",
       "      <th>3</th>\n",
       "      <td>04/12/2016</td>\n",
       "      <td>03</td>\n",
       "      <td>47</td>\n",
       "      <td>0</td>\n",
       "    </tr>\n",
       "    <tr>\n",
       "      <th>4</th>\n",
       "      <td>04/12/2016</td>\n",
       "      <td>04</td>\n",
       "      <td>48</td>\n",
       "      <td>0</td>\n",
       "    </tr>\n",
       "  </tbody>\n",
       "</table>\n",
       "</div>"
      ],
      "text/plain": [
       "         date hour  Calories  TotalIntensity\n",
       "0  04/12/2016   00        81              20\n",
       "1  04/12/2016   01        61               8\n",
       "2  04/12/2016   02        59               7\n",
       "3  04/12/2016   03        47               0\n",
       "4  04/12/2016   04        48               0"
      ]
     },
     "execution_count": 15,
     "metadata": {},
     "output_type": "execute_result"
    }
   ],
   "source": [
    "Calories_Intensities_df.head(5)"
   ]
  },
  {
   "cell_type": "code",
   "execution_count": 16,
   "id": "3312072f",
   "metadata": {
    "execution": {
     "iopub.execute_input": "2023-08-06T23:25:04.780089Z",
     "iopub.status.busy": "2023-08-06T23:25:04.779711Z",
     "iopub.status.idle": "2023-08-06T23:25:04.803987Z",
     "shell.execute_reply": "2023-08-06T23:25:04.802741Z"
    },
    "papermill": {
     "duration": 0.054438,
     "end_time": "2023-08-06T23:25:04.806322",
     "exception": false,
     "start_time": "2023-08-06T23:25:04.751884",
     "status": "completed"
    },
    "tags": []
   },
   "outputs": [
    {
     "data": {
      "text/plain": [
       "date              0\n",
       "hour              0\n",
       "Calories          0\n",
       "TotalIntensity    0\n",
       "dtype: int64"
      ]
     },
     "execution_count": 16,
     "metadata": {},
     "output_type": "execute_result"
    }
   ],
   "source": [
    "# checking the null value\n",
    "Calories_Intensities_df.isnull().sum()"
   ]
  },
  {
   "cell_type": "code",
   "execution_count": 17,
   "id": "cd39b550",
   "metadata": {
    "execution": {
     "iopub.execute_input": "2023-08-06T23:25:04.860736Z",
     "iopub.status.busy": "2023-08-06T23:25:04.859866Z",
     "iopub.status.idle": "2023-08-06T23:25:04.893197Z",
     "shell.execute_reply": "2023-08-06T23:25:04.891944Z"
    },
    "papermill": {
     "duration": 0.063158,
     "end_time": "2023-08-06T23:25:04.895581",
     "exception": false,
     "start_time": "2023-08-06T23:25:04.832423",
     "status": "completed"
    },
    "tags": []
   },
   "outputs": [
    {
     "name": "stdout",
     "output_type": "stream",
     "text": [
      "<class 'pandas.core.frame.DataFrame'>\n",
      "RangeIndex: 22099 entries, 0 to 22098\n",
      "Data columns (total 4 columns):\n",
      " #   Column          Non-Null Count  Dtype \n",
      "---  ------          --------------  ----- \n",
      " 0   date            22099 non-null  object\n",
      " 1   hour            22099 non-null  object\n",
      " 2   Calories        22099 non-null  int64 \n",
      " 3   TotalIntensity  22099 non-null  int64 \n",
      "dtypes: int64(2), object(2)\n",
      "memory usage: 690.7+ KB\n"
     ]
    }
   ],
   "source": [
    "Calories_Intensities_df.info()"
   ]
  },
  {
   "cell_type": "code",
   "execution_count": 18,
   "id": "ba4b4f75",
   "metadata": {
    "execution": {
     "iopub.execute_input": "2023-08-06T23:25:04.950342Z",
     "iopub.status.busy": "2023-08-06T23:25:04.949912Z",
     "iopub.status.idle": "2023-08-06T23:25:04.969619Z",
     "shell.execute_reply": "2023-08-06T23:25:04.968461Z"
    },
    "papermill": {
     "duration": 0.049643,
     "end_time": "2023-08-06T23:25:04.971984",
     "exception": false,
     "start_time": "2023-08-06T23:25:04.922341",
     "status": "completed"
    },
    "tags": []
   },
   "outputs": [
    {
     "data": {
      "text/html": [
       "<div>\n",
       "<style scoped>\n",
       "    .dataframe tbody tr th:only-of-type {\n",
       "        vertical-align: middle;\n",
       "    }\n",
       "\n",
       "    .dataframe tbody tr th {\n",
       "        vertical-align: top;\n",
       "    }\n",
       "\n",
       "    .dataframe thead th {\n",
       "        text-align: right;\n",
       "    }\n",
       "</style>\n",
       "<table border=\"1\" class=\"dataframe\">\n",
       "  <thead>\n",
       "    <tr style=\"text-align: right;\">\n",
       "      <th></th>\n",
       "      <th>Calories</th>\n",
       "      <th>TotalIntensity</th>\n",
       "    </tr>\n",
       "  </thead>\n",
       "  <tbody>\n",
       "    <tr>\n",
       "      <th>count</th>\n",
       "      <td>22099.000000</td>\n",
       "      <td>22099.000000</td>\n",
       "    </tr>\n",
       "    <tr>\n",
       "      <th>mean</th>\n",
       "      <td>97.386760</td>\n",
       "      <td>12.035341</td>\n",
       "    </tr>\n",
       "    <tr>\n",
       "      <th>std</th>\n",
       "      <td>60.702622</td>\n",
       "      <td>21.133110</td>\n",
       "    </tr>\n",
       "    <tr>\n",
       "      <th>min</th>\n",
       "      <td>42.000000</td>\n",
       "      <td>0.000000</td>\n",
       "    </tr>\n",
       "    <tr>\n",
       "      <th>25%</th>\n",
       "      <td>63.000000</td>\n",
       "      <td>0.000000</td>\n",
       "    </tr>\n",
       "    <tr>\n",
       "      <th>50%</th>\n",
       "      <td>83.000000</td>\n",
       "      <td>3.000000</td>\n",
       "    </tr>\n",
       "    <tr>\n",
       "      <th>75%</th>\n",
       "      <td>108.000000</td>\n",
       "      <td>16.000000</td>\n",
       "    </tr>\n",
       "    <tr>\n",
       "      <th>max</th>\n",
       "      <td>948.000000</td>\n",
       "      <td>180.000000</td>\n",
       "    </tr>\n",
       "  </tbody>\n",
       "</table>\n",
       "</div>"
      ],
      "text/plain": [
       "           Calories  TotalIntensity\n",
       "count  22099.000000    22099.000000\n",
       "mean      97.386760       12.035341\n",
       "std       60.702622       21.133110\n",
       "min       42.000000        0.000000\n",
       "25%       63.000000        0.000000\n",
       "50%       83.000000        3.000000\n",
       "75%      108.000000       16.000000\n",
       "max      948.000000      180.000000"
      ]
     },
     "execution_count": 18,
     "metadata": {},
     "output_type": "execute_result"
    }
   ],
   "source": [
    "Calories_Intensities_df.describe()"
   ]
  },
  {
   "cell_type": "code",
   "execution_count": 19,
   "id": "9e3c8c50",
   "metadata": {
    "execution": {
     "iopub.execute_input": "2023-08-06T23:25:05.026400Z",
     "iopub.status.busy": "2023-08-06T23:25:05.025669Z",
     "iopub.status.idle": "2023-08-06T23:25:05.046380Z",
     "shell.execute_reply": "2023-08-06T23:25:05.045237Z"
    },
    "papermill": {
     "duration": 0.050838,
     "end_time": "2023-08-06T23:25:05.049121",
     "exception": false,
     "start_time": "2023-08-06T23:25:04.998283",
     "status": "completed"
    },
    "tags": []
   },
   "outputs": [
    {
     "name": "stderr",
     "output_type": "stream",
     "text": [
      "/tmp/ipykernel_20/3253369842.py:1: FutureWarning: The default value of numeric_only in DataFrameGroupBy.mean is deprecated. In a future version, numeric_only will default to False. Either specify numeric_only or select only columns which should be valid for the function.\n",
      "  Calories_Intensities_mean_df = Calories_Intensities_df.groupby(by = 'hour').mean()\n"
     ]
    },
    {
     "data": {
      "text/html": [
       "<div>\n",
       "<style scoped>\n",
       "    .dataframe tbody tr th:only-of-type {\n",
       "        vertical-align: middle;\n",
       "    }\n",
       "\n",
       "    .dataframe tbody tr th {\n",
       "        vertical-align: top;\n",
       "    }\n",
       "\n",
       "    .dataframe thead th {\n",
       "        text-align: right;\n",
       "    }\n",
       "</style>\n",
       "<table border=\"1\" class=\"dataframe\">\n",
       "  <thead>\n",
       "    <tr style=\"text-align: right;\">\n",
       "      <th></th>\n",
       "      <th>Calories</th>\n",
       "      <th>TotalIntensity</th>\n",
       "    </tr>\n",
       "    <tr>\n",
       "      <th>hour</th>\n",
       "      <th></th>\n",
       "      <th></th>\n",
       "    </tr>\n",
       "  </thead>\n",
       "  <tbody>\n",
       "    <tr>\n",
       "      <th>00</th>\n",
       "      <td>71.805139</td>\n",
       "      <td>2.129550</td>\n",
       "    </tr>\n",
       "    <tr>\n",
       "      <th>01</th>\n",
       "      <td>70.165059</td>\n",
       "      <td>1.419078</td>\n",
       "    </tr>\n",
       "    <tr>\n",
       "      <th>02</th>\n",
       "      <td>69.186495</td>\n",
       "      <td>1.043944</td>\n",
       "    </tr>\n",
       "    <tr>\n",
       "      <th>03</th>\n",
       "      <td>67.538049</td>\n",
       "      <td>0.443730</td>\n",
       "    </tr>\n",
       "    <tr>\n",
       "      <th>04</th>\n",
       "      <td>68.261803</td>\n",
       "      <td>0.633047</td>\n",
       "    </tr>\n",
       "    <tr>\n",
       "      <th>05</th>\n",
       "      <td>81.708155</td>\n",
       "      <td>4.950644</td>\n",
       "    </tr>\n",
       "    <tr>\n",
       "      <th>06</th>\n",
       "      <td>86.996778</td>\n",
       "      <td>7.771214</td>\n",
       "    </tr>\n",
       "    <tr>\n",
       "      <th>07</th>\n",
       "      <td>94.477981</td>\n",
       "      <td>10.733620</td>\n",
       "    </tr>\n",
       "    <tr>\n",
       "      <th>08</th>\n",
       "      <td>103.337272</td>\n",
       "      <td>14.668099</td>\n",
       "    </tr>\n",
       "    <tr>\n",
       "      <th>09</th>\n",
       "      <td>106.142857</td>\n",
       "      <td>15.387755</td>\n",
       "    </tr>\n",
       "    <tr>\n",
       "      <th>10</th>\n",
       "      <td>110.460710</td>\n",
       "      <td>17.643703</td>\n",
       "    </tr>\n",
       "    <tr>\n",
       "      <th>11</th>\n",
       "      <td>109.806904</td>\n",
       "      <td>16.921251</td>\n",
       "    </tr>\n",
       "    <tr>\n",
       "      <th>12</th>\n",
       "      <td>117.197397</td>\n",
       "      <td>19.847072</td>\n",
       "    </tr>\n",
       "    <tr>\n",
       "      <th>13</th>\n",
       "      <td>115.309446</td>\n",
       "      <td>18.775244</td>\n",
       "    </tr>\n",
       "    <tr>\n",
       "      <th>14</th>\n",
       "      <td>115.732899</td>\n",
       "      <td>18.868621</td>\n",
       "    </tr>\n",
       "    <tr>\n",
       "      <th>15</th>\n",
       "      <td>106.637158</td>\n",
       "      <td>15.584699</td>\n",
       "    </tr>\n",
       "    <tr>\n",
       "      <th>16</th>\n",
       "      <td>113.327453</td>\n",
       "      <td>17.716648</td>\n",
       "    </tr>\n",
       "    <tr>\n",
       "      <th>17</th>\n",
       "      <td>122.752759</td>\n",
       "      <td>21.655629</td>\n",
       "    </tr>\n",
       "    <tr>\n",
       "      <th>18</th>\n",
       "      <td>123.492274</td>\n",
       "      <td>21.921634</td>\n",
       "    </tr>\n",
       "    <tr>\n",
       "      <th>19</th>\n",
       "      <td>121.484547</td>\n",
       "      <td>21.385210</td>\n",
       "    </tr>\n",
       "    <tr>\n",
       "      <th>20</th>\n",
       "      <td>102.357616</td>\n",
       "      <td>14.339956</td>\n",
       "    </tr>\n",
       "    <tr>\n",
       "      <th>21</th>\n",
       "      <td>96.056354</td>\n",
       "      <td>12.072928</td>\n",
       "    </tr>\n",
       "    <tr>\n",
       "      <th>22</th>\n",
       "      <td>88.265487</td>\n",
       "      <td>9.063053</td>\n",
       "    </tr>\n",
       "    <tr>\n",
       "      <th>23</th>\n",
       "      <td>77.593577</td>\n",
       "      <td>4.996678</td>\n",
       "    </tr>\n",
       "  </tbody>\n",
       "</table>\n",
       "</div>"
      ],
      "text/plain": [
       "        Calories  TotalIntensity\n",
       "hour                            \n",
       "00     71.805139        2.129550\n",
       "01     70.165059        1.419078\n",
       "02     69.186495        1.043944\n",
       "03     67.538049        0.443730\n",
       "04     68.261803        0.633047\n",
       "05     81.708155        4.950644\n",
       "06     86.996778        7.771214\n",
       "07     94.477981       10.733620\n",
       "08    103.337272       14.668099\n",
       "09    106.142857       15.387755\n",
       "10    110.460710       17.643703\n",
       "11    109.806904       16.921251\n",
       "12    117.197397       19.847072\n",
       "13    115.309446       18.775244\n",
       "14    115.732899       18.868621\n",
       "15    106.637158       15.584699\n",
       "16    113.327453       17.716648\n",
       "17    122.752759       21.655629\n",
       "18    123.492274       21.921634\n",
       "19    121.484547       21.385210\n",
       "20    102.357616       14.339956\n",
       "21     96.056354       12.072928\n",
       "22     88.265487        9.063053\n",
       "23     77.593577        4.996678"
      ]
     },
     "execution_count": 19,
     "metadata": {},
     "output_type": "execute_result"
    }
   ],
   "source": [
    "Calories_Intensities_mean_df = Calories_Intensities_df.groupby(by = 'hour').mean()\n",
    "Calories_Intensities_mean_df"
   ]
  },
  {
   "cell_type": "markdown",
   "id": "1c9592eb",
   "metadata": {
    "papermill": {
     "duration": 0.028502,
     "end_time": "2023-08-06T23:25:05.104943",
     "exception": false,
     "start_time": "2023-08-06T23:25:05.076441",
     "status": "completed"
    },
    "tags": []
   },
   "source": [
    "[Back to Table of Contents](#Table_of_Contents)\n",
    "<a id=\"Analyst_and_Share\"></a>\n",
    "### 5. Analyst and Share"
   ]
  },
  {
   "cell_type": "markdown",
   "id": "a61a7ec4",
   "metadata": {
    "papermill": {
     "duration": 0.027576,
     "end_time": "2023-08-06T23:25:05.159936",
     "exception": false,
     "start_time": "2023-08-06T23:25:05.132360",
     "status": "completed"
    },
    "tags": []
   },
   "source": [
    "<a id=\"Perform_Data_Visualization\"></a>\n",
    "#### 5.1 Perform Data Visualization\n",
    "\n",
    "Initially, my objective is to conduct data visualization to explore the correlation between Calories and Activity_Intensity."
   ]
  },
  {
   "cell_type": "code",
   "execution_count": 20,
   "id": "0d3b3d1e",
   "metadata": {
    "execution": {
     "iopub.execute_input": "2023-08-06T23:25:05.215357Z",
     "iopub.status.busy": "2023-08-06T23:25:05.214949Z",
     "iopub.status.idle": "2023-08-06T23:25:06.109723Z",
     "shell.execute_reply": "2023-08-06T23:25:06.108439Z"
    },
    "papermill": {
     "duration": 0.925593,
     "end_time": "2023-08-06T23:25:06.112405",
     "exception": false,
     "start_time": "2023-08-06T23:25:05.186812",
     "status": "completed"
    },
    "tags": []
   },
   "outputs": [
    {
     "data": {
      "text/plain": [
       "array([[<Axes: title={'center': 'Calories'}>,\n",
       "        <Axes: title={'center': 'TotalIntensity'}>]], dtype=object)"
      ]
     },
     "execution_count": 20,
     "metadata": {},
     "output_type": "execute_result"
    },
    {
     "data": {
      "image/png": "[encoded data removed]",
      "text/plain": [
       "<Figure size 2000x2000 with 2 Axes>"
      ]
     },
     "metadata": {},
     "output_type": "display_data"
    }
   ],
   "source": [
    "# Plot the histogram for my data\n",
    "Calories_Intensities_df.hist(bins = 30, figsize = (20,20),color = 'b')"
   ]
  },
  {
   "cell_type": "code",
   "execution_count": 21,
   "id": "049e5717",
   "metadata": {
    "execution": {
     "iopub.execute_input": "2023-08-06T23:25:06.170693Z",
     "iopub.status.busy": "2023-08-06T23:25:06.170122Z",
     "iopub.status.idle": "2023-08-06T23:25:08.740354Z",
     "shell.execute_reply": "2023-08-06T23:25:08.739363Z"
    },
    "papermill": {
     "duration": 2.602635,
     "end_time": "2023-08-06T23:25:08.743075",
     "exception": false,
     "start_time": "2023-08-06T23:25:06.140440",
     "status": "completed"
    },
    "tags": []
   },
   "outputs": [
    {
     "name": "stderr",
     "output_type": "stream",
     "text": [
      "/opt/conda/lib/python3.10/site-packages/seaborn/axisgrid.py:118: UserWarning: The figure layout has changed to tight\n",
      "  self._figure.tight_layout(*args, **kwargs)\n"
     ]
    },
    {
     "data": {
      "text/plain": [
       "<seaborn.axisgrid.PairGrid at 0x7f761bdf2c80>"
      ]
     },
     "execution_count": 21,
     "metadata": {},
     "output_type": "execute_result"
    },
    {
     "data": {
      "image/png": "[encoded data removed]",
      "text/plain": [
       "<Figure size 500x500 with 6 Axes>"
      ]
     },
     "metadata": {},
     "output_type": "display_data"
    }
   ],
   "source": [
    "sns.pairplot(Calories_Intensities_df)"
   ]
  },
  {
   "cell_type": "code",
   "execution_count": 22,
   "id": "56f44b3f",
   "metadata": {
    "execution": {
     "iopub.execute_input": "2023-08-06T23:25:08.804927Z",
     "iopub.status.busy": "2023-08-06T23:25:08.803907Z",
     "iopub.status.idle": "2023-08-06T23:25:08.819361Z",
     "shell.execute_reply": "2023-08-06T23:25:08.818234Z"
    },
    "papermill": {
     "duration": 0.0488,
     "end_time": "2023-08-06T23:25:08.821757",
     "exception": false,
     "start_time": "2023-08-06T23:25:08.772957",
     "status": "completed"
    },
    "tags": []
   },
   "outputs": [
    {
     "name": "stderr",
     "output_type": "stream",
     "text": [
      "/tmp/ipykernel_20/3736458459.py:1: FutureWarning: The default value of numeric_only in DataFrame.corr is deprecated. In a future version, it will default to False. Select only valid columns or specify the value of numeric_only to silence this warning.\n",
      "  corr_matrix = Calories_Intensities_df.corr()\n"
     ]
    },
    {
     "data": {
      "text/html": [
       "<div>\n",
       "<style scoped>\n",
       "    .dataframe tbody tr th:only-of-type {\n",
       "        vertical-align: middle;\n",
       "    }\n",
       "\n",
       "    .dataframe tbody tr th {\n",
       "        vertical-align: top;\n",
       "    }\n",
       "\n",
       "    .dataframe thead th {\n",
       "        text-align: right;\n",
       "    }\n",
       "</style>\n",
       "<table border=\"1\" class=\"dataframe\">\n",
       "  <thead>\n",
       "    <tr style=\"text-align: right;\">\n",
       "      <th></th>\n",
       "      <th>Calories</th>\n",
       "      <th>TotalIntensity</th>\n",
       "    </tr>\n",
       "  </thead>\n",
       "  <tbody>\n",
       "    <tr>\n",
       "      <th>Calories</th>\n",
       "      <td>1.000000</td>\n",
       "      <td>0.896616</td>\n",
       "    </tr>\n",
       "    <tr>\n",
       "      <th>TotalIntensity</th>\n",
       "      <td>0.896616</td>\n",
       "      <td>1.000000</td>\n",
       "    </tr>\n",
       "  </tbody>\n",
       "</table>\n",
       "</div>"
      ],
      "text/plain": [
       "                Calories  TotalIntensity\n",
       "Calories        1.000000        0.896616\n",
       "TotalIntensity  0.896616        1.000000"
      ]
     },
     "execution_count": 22,
     "metadata": {},
     "output_type": "execute_result"
    }
   ],
   "source": [
    "corr_matrix = Calories_Intensities_df.corr()\n",
    "corr_matrix"
   ]
  },
  {
   "cell_type": "code",
   "execution_count": 23,
   "id": "38e2867c",
   "metadata": {
    "execution": {
     "iopub.execute_input": "2023-08-06T23:25:08.884689Z",
     "iopub.status.busy": "2023-08-06T23:25:08.883940Z",
     "iopub.status.idle": "2023-08-06T23:25:09.224208Z",
     "shell.execute_reply": "2023-08-06T23:25:09.223197Z"
    },
    "papermill": {
     "duration": 0.37525,
     "end_time": "2023-08-06T23:25:09.226625",
     "exception": false,
     "start_time": "2023-08-06T23:25:08.851375",
     "status": "completed"
    },
    "tags": []
   },
   "outputs": [
    {
     "data": {
      "image/png": "[encoded data removed]",
      "text/plain": [
       "<Figure size 1200x1200 with 2 Axes>"
      ]
     },
     "metadata": {},
     "output_type": "display_data"
    }
   ],
   "source": [
    "plt.figure(figsize = (12,12))\n",
    "sns.heatmap(corr_matrix, annot = True)\n",
    "plt.show()"
   ]
  },
  {
   "cell_type": "code",
   "execution_count": 24,
   "id": "5ff48675",
   "metadata": {
    "execution": {
     "iopub.execute_input": "2023-08-06T23:25:09.288948Z",
     "iopub.status.busy": "2023-08-06T23:25:09.288561Z",
     "iopub.status.idle": "2023-08-06T23:25:10.124757Z",
     "shell.execute_reply": "2023-08-06T23:25:10.123446Z"
    },
    "papermill": {
     "duration": 0.870421,
     "end_time": "2023-08-06T23:25:10.127460",
     "exception": false,
     "start_time": "2023-08-06T23:25:09.257039",
     "status": "completed"
    },
    "tags": []
   },
   "outputs": [
    {
     "name": "stdout",
     "output_type": "stream",
     "text": [
      "Root Mean Squared Error (RMSE): 26.88\n",
      "R-squared value: 0.80\n"
     ]
    },
    {
     "data": {
      "image/png": "[encoded data removed]",
      "text/plain": [
       "<Figure size 1000x600 with 1 Axes>"
      ]
     },
     "metadata": {},
     "output_type": "display_data"
    }
   ],
   "source": [
    "# Convert data to numpy arrays\n",
    "x = np.array(Calories_Intensities_df['TotalIntensity'])\n",
    "y = np.array(Calories_Intensities_df['Calories'])\n",
    "\n",
    "# Calculate the regression line parameters\n",
    "coefficients = np.polyfit(x, y, 1)\n",
    "m, b = coefficients  # Slope (m) and intercept (b)\n",
    "\n",
    "# Create a figure and axis\n",
    "plt.figure(figsize=(10, 6))\n",
    "plt.scatter(x, y)\n",
    "\n",
    "# Plot the regression line\n",
    "plt.plot(x, m * x + b, color='red', label='Regression Line')\n",
    "\n",
    "# Set plot properties\n",
    "plt.xlabel('Activity_Intensity')\n",
    "plt.ylabel('Calories')\n",
    "plt.title('Calories vs. Activity_Intensity')\n",
    "plt.grid(True)\n",
    "\n",
    "# Perform regression testing\n",
    "predicted_y = m * x + b\n",
    "rmse = np.sqrt(np.mean((predicted_y - y) ** 2))\n",
    "r_squared = np.corrcoef(predicted_y, y)[0, 1] ** 2\n",
    "\n",
    "# Generate the regression formula string\n",
    "regression_formula = f'y = {m:.2f}x + {b:.2f}'\n",
    "\n",
    "# Add regression formula to the plot\n",
    "plt.text(150, 20, regression_formula, fontsize=12, bbox=dict(facecolor='white', alpha=0.8))\n",
    "\n",
    "# Print regression metrics\n",
    "print(f\"Root Mean Squared Error (RMSE): {rmse:.2f}\")\n",
    "print(f\"R-squared value: {r_squared:.2f}\")\n",
    "\n",
    "\n",
    "# Show the plot\n",
    "plt.tight_layout()\n",
    "plt.legend()\n",
    "plt.show()"
   ]
  },
  {
   "cell_type": "markdown",
   "id": "fe4193ba",
   "metadata": {
    "papermill": {
     "duration": 0.031717,
     "end_time": "2023-08-06T23:25:10.191522",
     "exception": false,
     "start_time": "2023-08-06T23:25:10.159805",
     "status": "completed"
    },
    "tags": []
   },
   "source": [
    "There is a strong positive correlation between Calories and Activity_Intensity. The correlation coefficient between these two variables is 0.896, indicating a significant relationship. The R-squared value of 0.80 suggests that approximately 80% of the variance in Calories can be explained by variations in Activity_Intensity.\n",
    "\n",
    "The linear regression model, represented by the equation y = 2.58x + 66.39, illustrates that as the Activity_Intensity (x) increases, the Calories (y) also tend to increase. The Root Mean Squared Error (RMSE) of 26.88 indicates the average magnitude of the residuals, representing the model's predictive accuracy.\n",
    "\n",
    "In summary, the data visualization and analysis demonstrate a strong positive correlation between Calories and Activity_Intensity, and the linear regression model provides insights into the relationship between the two variables."
   ]
  },
  {
   "cell_type": "markdown",
   "id": "dcf328ab",
   "metadata": {
    "papermill": {
     "duration": 0.03242,
     "end_time": "2023-08-06T23:25:10.255916",
     "exception": false,
     "start_time": "2023-08-06T23:25:10.223496",
     "status": "completed"
    },
    "tags": []
   },
   "source": [
    "<a id=\"Machine_Learning\"></a>\n",
    "#### 5.2 Machine Learning\n",
    "\n",
    "Next, I plan to construct three distinct machine learning models aimed at predicting the impact of varying levels of physical activity on calorie expenditure at different time intervals.\n",
    "\n",
    "* Linear Regression\n",
    "* Decision Tree     \n",
    "* Random Forest  "
   ]
  },
  {
   "cell_type": "markdown",
   "id": "ccd53120",
   "metadata": {
    "papermill": {
     "duration": 0.031142,
     "end_time": "2023-08-06T23:25:10.318820",
     "exception": false,
     "start_time": "2023-08-06T23:25:10.287678",
     "status": "completed"
    },
    "tags": []
   },
   "source": [
    "<a id=\"Create_Training_and_Testing\"></a>\n",
    "##### 5.2.1 Create Training and Testing"
   ]
  },
  {
   "cell_type": "code",
   "execution_count": 25,
   "id": "67a18af6",
   "metadata": {
    "execution": {
     "iopub.execute_input": "2023-08-06T23:25:10.384726Z",
     "iopub.status.busy": "2023-08-06T23:25:10.384216Z",
     "iopub.status.idle": "2023-08-06T23:25:10.736876Z",
     "shell.execute_reply": "2023-08-06T23:25:10.735773Z"
    },
    "papermill": {
     "duration": 0.388868,
     "end_time": "2023-08-06T23:25:10.739494",
     "exception": false,
     "start_time": "2023-08-06T23:25:10.350626",
     "status": "completed"
    },
    "tags": []
   },
   "outputs": [],
   "source": [
    "import pandas as pd\n",
    "from sklearn.model_selection import train_test_split\n",
    "from sklearn.linear_model import LinearRegression\n",
    "from sklearn.metrics import mean_squared_error"
   ]
  },
  {
   "cell_type": "code",
   "execution_count": 26,
   "id": "6979f8ca",
   "metadata": {
    "execution": {
     "iopub.execute_input": "2023-08-06T23:25:10.806064Z",
     "iopub.status.busy": "2023-08-06T23:25:10.805651Z",
     "iopub.status.idle": "2023-08-06T23:25:10.816230Z",
     "shell.execute_reply": "2023-08-06T23:25:10.814918Z"
    },
    "papermill": {
     "duration": 0.046564,
     "end_time": "2023-08-06T23:25:10.818723",
     "exception": false,
     "start_time": "2023-08-06T23:25:10.772159",
     "status": "completed"
    },
    "tags": []
   },
   "outputs": [],
   "source": [
    "# Convert the 'hour' and 'minute' columns to integers\n",
    "Calories_Intensities_df['hour'] = Calories_Intensities_df['hour'].astype(int)"
   ]
  },
  {
   "cell_type": "code",
   "execution_count": 27,
   "id": "d7b55989",
   "metadata": {
    "execution": {
     "iopub.execute_input": "2023-08-06T23:25:10.884341Z",
     "iopub.status.busy": "2023-08-06T23:25:10.883895Z",
     "iopub.status.idle": "2023-08-06T23:25:10.891421Z",
     "shell.execute_reply": "2023-08-06T23:25:10.890368Z"
    },
    "papermill": {
     "duration": 0.043425,
     "end_time": "2023-08-06T23:25:10.893925",
     "exception": false,
     "start_time": "2023-08-06T23:25:10.850500",
     "status": "completed"
    },
    "tags": []
   },
   "outputs": [],
   "source": [
    "# Split the data into features (X) and target variable (y)\n",
    "X = Calories_Intensities_df[['hour', 'Calories']]\n",
    "y = Calories_Intensities_df['TotalIntensity']\n"
   ]
  },
  {
   "cell_type": "code",
   "execution_count": 28,
   "id": "07c3e9b1",
   "metadata": {
    "execution": {
     "iopub.execute_input": "2023-08-06T23:25:10.959935Z",
     "iopub.status.busy": "2023-08-06T23:25:10.959495Z",
     "iopub.status.idle": "2023-08-06T23:25:10.966447Z",
     "shell.execute_reply": "2023-08-06T23:25:10.965538Z"
    },
    "papermill": {
     "duration": 0.042425,
     "end_time": "2023-08-06T23:25:10.968587",
     "exception": false,
     "start_time": "2023-08-06T23:25:10.926162",
     "status": "completed"
    },
    "tags": []
   },
   "outputs": [
    {
     "data": {
      "text/plain": [
       "(22099, 2)"
      ]
     },
     "execution_count": 28,
     "metadata": {},
     "output_type": "execute_result"
    }
   ],
   "source": [
    "X.shape"
   ]
  },
  {
   "cell_type": "code",
   "execution_count": 29,
   "id": "de38b91d",
   "metadata": {
    "execution": {
     "iopub.execute_input": "2023-08-06T23:25:11.033861Z",
     "iopub.status.busy": "2023-08-06T23:25:11.032756Z",
     "iopub.status.idle": "2023-08-06T23:25:11.039216Z",
     "shell.execute_reply": "2023-08-06T23:25:11.038252Z"
    },
    "papermill": {
     "duration": 0.041321,
     "end_time": "2023-08-06T23:25:11.041336",
     "exception": false,
     "start_time": "2023-08-06T23:25:11.000015",
     "status": "completed"
    },
    "tags": []
   },
   "outputs": [
    {
     "data": {
      "text/plain": [
       "(22099,)"
      ]
     },
     "execution_count": 29,
     "metadata": {},
     "output_type": "execute_result"
    }
   ],
   "source": [
    "y.shape"
   ]
  },
  {
   "cell_type": "code",
   "execution_count": 30,
   "id": "fce3c8cb",
   "metadata": {
    "execution": {
     "iopub.execute_input": "2023-08-06T23:25:11.108472Z",
     "iopub.status.busy": "2023-08-06T23:25:11.107719Z",
     "iopub.status.idle": "2023-08-06T23:25:11.115045Z",
     "shell.execute_reply": "2023-08-06T23:25:11.114321Z"
    },
    "papermill": {
     "duration": 0.042911,
     "end_time": "2023-08-06T23:25:11.117245",
     "exception": false,
     "start_time": "2023-08-06T23:25:11.074334",
     "status": "completed"
    },
    "tags": []
   },
   "outputs": [
    {
     "data": {
      "text/plain": [
       "0        20\n",
       "1         8\n",
       "2         7\n",
       "3         0\n",
       "4         0\n",
       "         ..\n",
       "22094    12\n",
       "22095    29\n",
       "22096    93\n",
       "22097     6\n",
       "22098     9\n",
       "Name: TotalIntensity, Length: 22099, dtype: int64"
      ]
     },
     "execution_count": 30,
     "metadata": {},
     "output_type": "execute_result"
    }
   ],
   "source": [
    "y"
   ]
  },
  {
   "cell_type": "code",
   "execution_count": 31,
   "id": "ba6c000b",
   "metadata": {
    "execution": {
     "iopub.execute_input": "2023-08-06T23:25:11.186992Z",
     "iopub.status.busy": "2023-08-06T23:25:11.186381Z",
     "iopub.status.idle": "2023-08-06T23:25:11.191081Z",
     "shell.execute_reply": "2023-08-06T23:25:11.190159Z"
    },
    "papermill": {
     "duration": 0.040588,
     "end_time": "2023-08-06T23:25:11.193600",
     "exception": false,
     "start_time": "2023-08-06T23:25:11.153012",
     "status": "completed"
    },
    "tags": []
   },
   "outputs": [],
   "source": [
    "X = np.array(X)\n",
    "y = np.array(y)"
   ]
  },
  {
   "cell_type": "code",
   "execution_count": 32,
   "id": "3bd0c512",
   "metadata": {
    "execution": {
     "iopub.execute_input": "2023-08-06T23:25:11.259231Z",
     "iopub.status.busy": "2023-08-06T23:25:11.258835Z",
     "iopub.status.idle": "2023-08-06T23:25:11.265744Z",
     "shell.execute_reply": "2023-08-06T23:25:11.264688Z"
    },
    "papermill": {
     "duration": 0.042771,
     "end_time": "2023-08-06T23:25:11.268161",
     "exception": false,
     "start_time": "2023-08-06T23:25:11.225390",
     "status": "completed"
    },
    "tags": []
   },
   "outputs": [
    {
     "data": {
      "text/plain": [
       "(22099, 1)"
      ]
     },
     "execution_count": 32,
     "metadata": {},
     "output_type": "execute_result"
    }
   ],
   "source": [
    "y = y.reshape(-1,1)\n",
    "y.shape"
   ]
  },
  {
   "cell_type": "markdown",
   "id": "e42abbdb",
   "metadata": {
    "papermill": {
     "duration": 0.031953,
     "end_time": "2023-08-06T23:25:11.332406",
     "exception": false,
     "start_time": "2023-08-06T23:25:11.300453",
     "status": "completed"
    },
    "tags": []
   },
   "source": [
    "<a id=\"Linear_Regression\"></a>\n",
    "##### 5.2.2 Linear Regression\n",
    "\n",
    "Linear Regression is a statistical technique used to model the relationship between a dependent variable and one or more independent variables. It seeks to find the best-fitting line (or hyperplane) that minimizes the difference between predicted and actual values. This straightforward approach provides interpretable results and is well-suited for scenarios where a linear relationship exists between the variables."
   ]
  },
  {
   "cell_type": "code",
   "execution_count": 33,
   "id": "8b7bd494",
   "metadata": {
    "execution": {
     "iopub.execute_input": "2023-08-06T23:25:11.398373Z",
     "iopub.status.busy": "2023-08-06T23:25:11.397972Z",
     "iopub.status.idle": "2023-08-06T23:25:11.435362Z",
     "shell.execute_reply": "2023-08-06T23:25:11.434453Z"
    },
    "papermill": {
     "duration": 0.073188,
     "end_time": "2023-08-06T23:25:11.437734",
     "exception": false,
     "start_time": "2023-08-06T23:25:11.364546",
     "status": "completed"
    },
    "tags": []
   },
   "outputs": [
    {
     "data": {
      "text/html": [
       "<style>#sk-container-id-1 {color: black;background-color: white;}#sk-container-id-1 pre{padding: 0;}#sk-container-id-1 div.sk-toggleable {background-color: white;}#sk-container-id-1 label.sk-toggleable__label {cursor: pointer;display: block;width: 100%;margin-bottom: 0;padding: 0.3em;box-sizing: border-box;text-align: center;}#sk-container-id-1 label.sk-toggleable__label-arrow:before {content: \"▸\";float: left;margin-right: 0.25em;color: #696969;}#sk-container-id-1 label.sk-toggleable__label-arrow:hover:before {color: black;}#sk-container-id-1 div.sk-estimator:hover label.sk-toggleable__label-arrow:before {color: black;}#sk-container-id-1 div.sk-toggleable__content {max-height: 0;max-width: 0;overflow: hidden;text-align: left;background-color: #f0f8ff;}#sk-container-id-1 div.sk-toggleable__content pre {margin: 0.2em;color: black;border-radius: 0.25em;background-color: #f0f8ff;}#sk-container-id-1 input.sk-toggleable__control:checked~div.sk-toggleable__content {max-height: 200px;max-width: 100%;overflow: auto;}#sk-container-id-1 input.sk-toggleable__control:checked~label.sk-toggleable__label-arrow:before {content: \"▾\";}#sk-container-id-1 div.sk-estimator input.sk-toggleable__control:checked~label.sk-toggleable__label {background-color: #d4ebff;}#sk-container-id-1 div.sk-label input.sk-toggleable__control:checked~label.sk-toggleable__label {background-color: #d4ebff;}#sk-container-id-1 input.sk-hidden--visually {border: 0;clip: rect(1px 1px 1px 1px);clip: rect(1px, 1px, 1px, 1px);height: 1px;margin: -1px;overflow: hidden;padding: 0;position: absolute;width: 1px;}#sk-container-id-1 div.sk-estimator {font-family: monospace;background-color: #f0f8ff;border: 1px dotted black;border-radius: 0.25em;box-sizing: border-box;margin-bottom: 0.5em;}#sk-container-id-1 div.sk-estimator:hover {background-color: #d4ebff;}#sk-container-id-1 div.sk-parallel-item::after {content: \"\";width: 100%;border-bottom: 1px solid gray;flex-grow: 1;}#sk-container-id-1 div.sk-label:hover label.sk-toggleable__label {background-color: #d4ebff;}#sk-container-id-1 div.sk-serial::before {content: \"\";position: absolute;border-left: 1px solid gray;box-sizing: border-box;top: 0;bottom: 0;left: 50%;z-index: 0;}#sk-container-id-1 div.sk-serial {display: flex;flex-direction: column;align-items: center;background-color: white;padding-right: 0.2em;padding-left: 0.2em;position: relative;}#sk-container-id-1 div.sk-item {position: relative;z-index: 1;}#sk-container-id-1 div.sk-parallel {display: flex;align-items: stretch;justify-content: center;background-color: white;position: relative;}#sk-container-id-1 div.sk-item::before, #sk-container-id-1 div.sk-parallel-item::before {content: \"\";position: absolute;border-left: 1px solid gray;box-sizing: border-box;top: 0;bottom: 0;left: 50%;z-index: -1;}#sk-container-id-1 div.sk-parallel-item {display: flex;flex-direction: column;z-index: 1;position: relative;background-color: white;}#sk-container-id-1 div.sk-parallel-item:first-child::after {align-self: flex-end;width: 50%;}#sk-container-id-1 div.sk-parallel-item:last-child::after {align-self: flex-start;width: 50%;}#sk-container-id-1 div.sk-parallel-item:only-child::after {width: 0;}#sk-container-id-1 div.sk-dashed-wrapped {border: 1px dashed gray;margin: 0 0.4em 0.5em 0.4em;box-sizing: border-box;padding-bottom: 0.4em;background-color: white;}#sk-container-id-1 div.sk-label label {font-family: monospace;font-weight: bold;display: inline-block;line-height: 1.2em;}#sk-container-id-1 div.sk-label-container {text-align: center;}#sk-container-id-1 div.sk-container {/* jupyter's `normalize.less` sets `[hidden] { display: none; }` but bootstrap.min.css set `[hidden] { display: none !important; }` so we also need the `!important` here to be able to override the default hidden behavior on the sphinx rendered scikit-learn.org. See: https://github.com/scikit-learn/scikit-learn/issues/21755 */display: inline-block !important;position: relative;}#sk-container-id-1 div.sk-text-repr-fallback {display: none;}</style><div id=\"sk-container-id-1\" class=\"sk-top-container\"><div class=\"sk-text-repr-fallback\"><pre>LinearRegression()</pre><b>In a Jupyter environment, please rerun this cell to show the HTML representation or trust the notebook. <br />On GitHub, the HTML representation is unable to render, please try loading this page with nbviewer.org.</b></div><div class=\"sk-container\" hidden><div class=\"sk-item\"><div class=\"sk-estimator sk-toggleable\"><input class=\"sk-toggleable__control sk-hidden--visually\" id=\"sk-estimator-id-1\" type=\"checkbox\" checked><label for=\"sk-estimator-id-1\" class=\"sk-toggleable__label sk-toggleable__label-arrow\">LinearRegression</label><div class=\"sk-toggleable__content\"><pre>LinearRegression()</pre></div></div></div></div></div>"
      ],
      "text/plain": [
       "LinearRegression()"
      ]
     },
     "execution_count": 33,
     "metadata": {},
     "output_type": "execute_result"
    }
   ],
   "source": [
    "# Split the data into training and testing sets (80% train, 20% test)\n",
    "X_train, X_test, y_train, y_test = train_test_split(X, y, test_size=0.2, random_state=42)\n",
    "\n",
    "# Initialize and train the Linear Regression model\n",
    "LinearRegression_model = LinearRegression()\n",
    "LinearRegression_model.fit(X_train, y_train)"
   ]
  },
  {
   "cell_type": "code",
   "execution_count": 34,
   "id": "c990c98f",
   "metadata": {
    "execution": {
     "iopub.execute_input": "2023-08-06T23:25:11.505312Z",
     "iopub.status.busy": "2023-08-06T23:25:11.504890Z",
     "iopub.status.idle": "2023-08-06T23:25:11.513567Z",
     "shell.execute_reply": "2023-08-06T23:25:11.512455Z"
    },
    "papermill": {
     "duration": 0.045199,
     "end_time": "2023-08-06T23:25:11.515830",
     "exception": false,
     "start_time": "2023-08-06T23:25:11.470631",
     "status": "completed"
    },
    "tags": []
   },
   "outputs": [
    {
     "data": {
      "text/plain": [
       "0.8060336254713603"
      ]
     },
     "execution_count": 34,
     "metadata": {},
     "output_type": "execute_result"
    }
   ],
   "source": [
    "accuracy_LinearRegression = LinearRegression_model.score(X_test, y_test)\n",
    "accuracy_LinearRegression"
   ]
  },
  {
   "cell_type": "code",
   "execution_count": 35,
   "id": "6d58d8a6",
   "metadata": {
    "execution": {
     "iopub.execute_input": "2023-08-06T23:25:11.583346Z",
     "iopub.status.busy": "2023-08-06T23:25:11.582687Z",
     "iopub.status.idle": "2023-08-06T23:25:11.588973Z",
     "shell.execute_reply": "2023-08-06T23:25:11.588053Z"
    },
    "papermill": {
     "duration": 0.043004,
     "end_time": "2023-08-06T23:25:11.591351",
     "exception": false,
     "start_time": "2023-08-06T23:25:11.548347",
     "status": "completed"
    },
    "tags": []
   },
   "outputs": [],
   "source": [
    "def predict_total_intensity(model, hour, calories):\n",
    "    # Now the model is trained and can be used for predictions on new data points\n",
    "    new_data = pd.DataFrame({'hour': [hour], 'Calories': [calories]})\n",
    "    predicted_intensity = model.predict(new_data)\n",
    "    \n",
    "    print(f\"Predicted Total Intensity for hour={hour} and Calories={calories}: {predicted_intensity[0]}\")\n",
    "    return predicted_intensity[0]\n"
   ]
  },
  {
   "cell_type": "markdown",
   "id": "fb443f1d",
   "metadata": {
    "papermill": {
     "duration": 0.032026,
     "end_time": "2023-08-06T23:25:11.655612",
     "exception": false,
     "start_time": "2023-08-06T23:25:11.623586",
     "status": "completed"
    },
    "tags": []
   },
   "source": [
    "Now the model is trained and can be used for predictions on new data points\n",
    "\n",
    "For example, to predict total activity intensity for hour = 8 and Calories = 120 "
   ]
  },
  {
   "cell_type": "code",
   "execution_count": 36,
   "id": "d83a35eb",
   "metadata": {
    "execution": {
     "iopub.execute_input": "2023-08-06T23:25:11.722512Z",
     "iopub.status.busy": "2023-08-06T23:25:11.721850Z",
     "iopub.status.idle": "2023-08-06T23:25:11.733636Z",
     "shell.execute_reply": "2023-08-06T23:25:11.732078Z"
    },
    "papermill": {
     "duration": 0.048292,
     "end_time": "2023-08-06T23:25:11.736216",
     "exception": false,
     "start_time": "2023-08-06T23:25:11.687924",
     "status": "completed"
    },
    "tags": []
   },
   "outputs": [
    {
     "name": "stdout",
     "output_type": "stream",
     "text": [
      "Predicted Total Intensity for hour=8 and Calories=120: [18.53103002]\n",
      "[18.53103002]\n"
     ]
    },
    {
     "name": "stderr",
     "output_type": "stream",
     "text": [
      "/opt/conda/lib/python3.10/site-packages/sklearn/base.py:432: UserWarning: X has feature names, but LinearRegression was fitted without feature names\n",
      "  warnings.warn(\n"
     ]
    }
   ],
   "source": [
    "print(predict_total_intensity(LinearRegression_model, 8, 120))"
   ]
  },
  {
   "cell_type": "markdown",
   "id": "33f3f9e8",
   "metadata": {
    "papermill": {
     "duration": 0.032978,
     "end_time": "2023-08-06T23:25:11.802351",
     "exception": false,
     "start_time": "2023-08-06T23:25:11.769373",
     "status": "completed"
    },
    "tags": []
   },
   "source": [
    "<a id=\"Decision_Tree_Regressor\"></a>\n",
    "##### 5.2.3 Decision Tree Regressor\n",
    "\n",
    "Decision tree builds regression or classification models in the form of a tree structure. Decision tree breaks down a dataset into smaller subsets while at the same time an associated decision tree is incrementally developed. The final result is a tree with decision nodes and leaf nodes. Great resource: https://www.saedsayad.com/decision_tree_reg.htm\n"
   ]
  },
  {
   "cell_type": "code",
   "execution_count": 37,
   "id": "ae1dae93",
   "metadata": {
    "execution": {
     "iopub.execute_input": "2023-08-06T23:25:11.869033Z",
     "iopub.status.busy": "2023-08-06T23:25:11.868659Z",
     "iopub.status.idle": "2023-08-06T23:25:12.065459Z",
     "shell.execute_reply": "2023-08-06T23:25:12.064527Z"
    },
    "papermill": {
     "duration": 0.23292,
     "end_time": "2023-08-06T23:25:12.067635",
     "exception": false,
     "start_time": "2023-08-06T23:25:11.834715",
     "status": "completed"
    },
    "tags": []
   },
   "outputs": [
    {
     "data": {
      "text/html": [
       "<style>#sk-container-id-2 {color: black;background-color: white;}#sk-container-id-2 pre{padding: 0;}#sk-container-id-2 div.sk-toggleable {background-color: white;}#sk-container-id-2 label.sk-toggleable__label {cursor: pointer;display: block;width: 100%;margin-bottom: 0;padding: 0.3em;box-sizing: border-box;text-align: center;}#sk-container-id-2 label.sk-toggleable__label-arrow:before {content: \"▸\";float: left;margin-right: 0.25em;color: #696969;}#sk-container-id-2 label.sk-toggleable__label-arrow:hover:before {color: black;}#sk-container-id-2 div.sk-estimator:hover label.sk-toggleable__label-arrow:before {color: black;}#sk-container-id-2 div.sk-toggleable__content {max-height: 0;max-width: 0;overflow: hidden;text-align: left;background-color: #f0f8ff;}#sk-container-id-2 div.sk-toggleable__content pre {margin: 0.2em;color: black;border-radius: 0.25em;background-color: #f0f8ff;}#sk-container-id-2 input.sk-toggleable__control:checked~div.sk-toggleable__content {max-height: 200px;max-width: 100%;overflow: auto;}#sk-container-id-2 input.sk-toggleable__control:checked~label.sk-toggleable__label-arrow:before {content: \"▾\";}#sk-container-id-2 div.sk-estimator input.sk-toggleable__control:checked~label.sk-toggleable__label {background-color: #d4ebff;}#sk-container-id-2 div.sk-label input.sk-toggleable__control:checked~label.sk-toggleable__label {background-color: #d4ebff;}#sk-container-id-2 input.sk-hidden--visually {border: 0;clip: rect(1px 1px 1px 1px);clip: rect(1px, 1px, 1px, 1px);height: 1px;margin: -1px;overflow: hidden;padding: 0;position: absolute;width: 1px;}#sk-container-id-2 div.sk-estimator {font-family: monospace;background-color: #f0f8ff;border: 1px dotted black;border-radius: 0.25em;box-sizing: border-box;margin-bottom: 0.5em;}#sk-container-id-2 div.sk-estimator:hover {background-color: #d4ebff;}#sk-container-id-2 div.sk-parallel-item::after {content: \"\";width: 100%;border-bottom: 1px solid gray;flex-grow: 1;}#sk-container-id-2 div.sk-label:hover label.sk-toggleable__label {background-color: #d4ebff;}#sk-container-id-2 div.sk-serial::before {content: \"\";position: absolute;border-left: 1px solid gray;box-sizing: border-box;top: 0;bottom: 0;left: 50%;z-index: 0;}#sk-container-id-2 div.sk-serial {display: flex;flex-direction: column;align-items: center;background-color: white;padding-right: 0.2em;padding-left: 0.2em;position: relative;}#sk-container-id-2 div.sk-item {position: relative;z-index: 1;}#sk-container-id-2 div.sk-parallel {display: flex;align-items: stretch;justify-content: center;background-color: white;position: relative;}#sk-container-id-2 div.sk-item::before, #sk-container-id-2 div.sk-parallel-item::before {content: \"\";position: absolute;border-left: 1px solid gray;box-sizing: border-box;top: 0;bottom: 0;left: 50%;z-index: -1;}#sk-container-id-2 div.sk-parallel-item {display: flex;flex-direction: column;z-index: 1;position: relative;background-color: white;}#sk-container-id-2 div.sk-parallel-item:first-child::after {align-self: flex-end;width: 50%;}#sk-container-id-2 div.sk-parallel-item:last-child::after {align-self: flex-start;width: 50%;}#sk-container-id-2 div.sk-parallel-item:only-child::after {width: 0;}#sk-container-id-2 div.sk-dashed-wrapped {border: 1px dashed gray;margin: 0 0.4em 0.5em 0.4em;box-sizing: border-box;padding-bottom: 0.4em;background-color: white;}#sk-container-id-2 div.sk-label label {font-family: monospace;font-weight: bold;display: inline-block;line-height: 1.2em;}#sk-container-id-2 div.sk-label-container {text-align: center;}#sk-container-id-2 div.sk-container {/* jupyter's `normalize.less` sets `[hidden] { display: none; }` but bootstrap.min.css set `[hidden] { display: none !important; }` so we also need the `!important` here to be able to override the default hidden behavior on the sphinx rendered scikit-learn.org. See: https://github.com/scikit-learn/scikit-learn/issues/21755 */display: inline-block !important;position: relative;}#sk-container-id-2 div.sk-text-repr-fallback {display: none;}</style><div id=\"sk-container-id-2\" class=\"sk-top-container\"><div class=\"sk-text-repr-fallback\"><pre>DecisionTreeRegressor()</pre><b>In a Jupyter environment, please rerun this cell to show the HTML representation or trust the notebook. <br />On GitHub, the HTML representation is unable to render, please try loading this page with nbviewer.org.</b></div><div class=\"sk-container\" hidden><div class=\"sk-item\"><div class=\"sk-estimator sk-toggleable\"><input class=\"sk-toggleable__control sk-hidden--visually\" id=\"sk-estimator-id-2\" type=\"checkbox\" checked><label for=\"sk-estimator-id-2\" class=\"sk-toggleable__label sk-toggleable__label-arrow\">DecisionTreeRegressor</label><div class=\"sk-toggleable__content\"><pre>DecisionTreeRegressor()</pre></div></div></div></div></div>"
      ],
      "text/plain": [
       "DecisionTreeRegressor()"
      ]
     },
     "execution_count": 37,
     "metadata": {},
     "output_type": "execute_result"
    }
   ],
   "source": [
    "from sklearn.tree import DecisionTreeRegressor\n",
    "DecisionTree_model = DecisionTreeRegressor()\n",
    "DecisionTree_model.fit(X_train,y_train)"
   ]
  },
  {
   "cell_type": "code",
   "execution_count": 38,
   "id": "08726c94",
   "metadata": {
    "execution": {
     "iopub.execute_input": "2023-08-06T23:25:12.137178Z",
     "iopub.status.busy": "2023-08-06T23:25:12.136400Z",
     "iopub.status.idle": "2023-08-06T23:25:12.146447Z",
     "shell.execute_reply": "2023-08-06T23:25:12.145279Z"
    },
    "papermill": {
     "duration": 0.048307,
     "end_time": "2023-08-06T23:25:12.148964",
     "exception": false,
     "start_time": "2023-08-06T23:25:12.100657",
     "status": "completed"
    },
    "tags": []
   },
   "outputs": [
    {
     "data": {
      "text/plain": [
       "0.7402476816633048"
      ]
     },
     "execution_count": 38,
     "metadata": {},
     "output_type": "execute_result"
    }
   ],
   "source": [
    "accuracy_DecisionTrss = DecisionTree_model.score(X_test,y_test)\n",
    "accuracy_DecisionTrss"
   ]
  },
  {
   "cell_type": "markdown",
   "id": "48fa3157",
   "metadata": {
    "papermill": {
     "duration": 0.032769,
     "end_time": "2023-08-06T23:25:12.214950",
     "exception": false,
     "start_time": "2023-08-06T23:25:12.182181",
     "status": "completed"
    },
    "tags": []
   },
   "source": [
    "Now the model is trained and can be used for predictions on new data points\n",
    "\n",
    "For example, to predict total activity intensity for hour = 8 and Calories = 120 "
   ]
  },
  {
   "cell_type": "code",
   "execution_count": 39,
   "id": "2feb3a85",
   "metadata": {
    "execution": {
     "iopub.execute_input": "2023-08-06T23:25:12.282598Z",
     "iopub.status.busy": "2023-08-06T23:25:12.282162Z",
     "iopub.status.idle": "2023-08-06T23:25:12.290487Z",
     "shell.execute_reply": "2023-08-06T23:25:12.289310Z"
    },
    "papermill": {
     "duration": 0.045359,
     "end_time": "2023-08-06T23:25:12.293229",
     "exception": false,
     "start_time": "2023-08-06T23:25:12.247870",
     "status": "completed"
    },
    "tags": []
   },
   "outputs": [
    {
     "name": "stdout",
     "output_type": "stream",
     "text": [
      "Predicted Total Intensity for hour=8 and Calories=120: 30.0\n",
      "30.0\n"
     ]
    },
    {
     "name": "stderr",
     "output_type": "stream",
     "text": [
      "/opt/conda/lib/python3.10/site-packages/sklearn/base.py:432: UserWarning: X has feature names, but DecisionTreeRegressor was fitted without feature names\n",
      "  warnings.warn(\n"
     ]
    }
   ],
   "source": [
    "print(predict_total_intensity(DecisionTree_model, 8, 120))"
   ]
  },
  {
   "cell_type": "markdown",
   "id": "bad114be",
   "metadata": {
    "papermill": {
     "duration": 0.032944,
     "end_time": "2023-08-06T23:25:12.361313",
     "exception": false,
     "start_time": "2023-08-06T23:25:12.328369",
     "status": "completed"
    },
    "tags": []
   },
   "source": [
    "<a id=\"Random_Forest_Regressor\"></a>\n",
    "##### 5.2.4 Random Forest Regressor\n",
    "\n",
    "Many decision Trees make up a random forest model which is an ensemble model. Predictions made by each decision tree are averaged to get the prediction of random forest model. A random forest regressor fits a number of classifying decision trees on various sub-samples of the dataset and uses averaging to improve the predictive accuracy and control over-fitting. "
   ]
  },
  {
   "cell_type": "code",
   "execution_count": 40,
   "id": "89c1985a",
   "metadata": {
    "execution": {
     "iopub.execute_input": "2023-08-06T23:25:12.430200Z",
     "iopub.status.busy": "2023-08-06T23:25:12.429792Z",
     "iopub.status.idle": "2023-08-06T23:25:13.704511Z",
     "shell.execute_reply": "2023-08-06T23:25:13.703027Z"
    },
    "papermill": {
     "duration": 1.31223,
     "end_time": "2023-08-06T23:25:13.707027",
     "exception": false,
     "start_time": "2023-08-06T23:25:12.394797",
     "status": "completed"
    },
    "tags": []
   },
   "outputs": [
    {
     "name": "stderr",
     "output_type": "stream",
     "text": [
      "/tmp/ipykernel_20/2067927171.py:3: DataConversionWarning: A column-vector y was passed when a 1d array was expected. Please change the shape of y to (n_samples,), for example using ravel().\n",
      "  RandomForest_model.fit(X_train,y_train)\n"
     ]
    },
    {
     "data": {
      "text/html": [
       "<style>#sk-container-id-3 {color: black;background-color: white;}#sk-container-id-3 pre{padding: 0;}#sk-container-id-3 div.sk-toggleable {background-color: white;}#sk-container-id-3 label.sk-toggleable__label {cursor: pointer;display: block;width: 100%;margin-bottom: 0;padding: 0.3em;box-sizing: border-box;text-align: center;}#sk-container-id-3 label.sk-toggleable__label-arrow:before {content: \"▸\";float: left;margin-right: 0.25em;color: #696969;}#sk-container-id-3 label.sk-toggleable__label-arrow:hover:before {color: black;}#sk-container-id-3 div.sk-estimator:hover label.sk-toggleable__label-arrow:before {color: black;}#sk-container-id-3 div.sk-toggleable__content {max-height: 0;max-width: 0;overflow: hidden;text-align: left;background-color: #f0f8ff;}#sk-container-id-3 div.sk-toggleable__content pre {margin: 0.2em;color: black;border-radius: 0.25em;background-color: #f0f8ff;}#sk-container-id-3 input.sk-toggleable__control:checked~div.sk-toggleable__content {max-height: 200px;max-width: 100%;overflow: auto;}#sk-container-id-3 input.sk-toggleable__control:checked~label.sk-toggleable__label-arrow:before {content: \"▾\";}#sk-container-id-3 div.sk-estimator input.sk-toggleable__control:checked~label.sk-toggleable__label {background-color: #d4ebff;}#sk-container-id-3 div.sk-label input.sk-toggleable__control:checked~label.sk-toggleable__label {background-color: #d4ebff;}#sk-container-id-3 input.sk-hidden--visually {border: 0;clip: rect(1px 1px 1px 1px);clip: rect(1px, 1px, 1px, 1px);height: 1px;margin: -1px;overflow: hidden;padding: 0;position: absolute;width: 1px;}#sk-container-id-3 div.sk-estimator {font-family: monospace;background-color: #f0f8ff;border: 1px dotted black;border-radius: 0.25em;box-sizing: border-box;margin-bottom: 0.5em;}#sk-container-id-3 div.sk-estimator:hover {background-color: #d4ebff;}#sk-container-id-3 div.sk-parallel-item::after {content: \"\";width: 100%;border-bottom: 1px solid gray;flex-grow: 1;}#sk-container-id-3 div.sk-label:hover label.sk-toggleable__label {background-color: #d4ebff;}#sk-container-id-3 div.sk-serial::before {content: \"\";position: absolute;border-left: 1px solid gray;box-sizing: border-box;top: 0;bottom: 0;left: 50%;z-index: 0;}#sk-container-id-3 div.sk-serial {display: flex;flex-direction: column;align-items: center;background-color: white;padding-right: 0.2em;padding-left: 0.2em;position: relative;}#sk-container-id-3 div.sk-item {position: relative;z-index: 1;}#sk-container-id-3 div.sk-parallel {display: flex;align-items: stretch;justify-content: center;background-color: white;position: relative;}#sk-container-id-3 div.sk-item::before, #sk-container-id-3 div.sk-parallel-item::before {content: \"\";position: absolute;border-left: 1px solid gray;box-sizing: border-box;top: 0;bottom: 0;left: 50%;z-index: -1;}#sk-container-id-3 div.sk-parallel-item {display: flex;flex-direction: column;z-index: 1;position: relative;background-color: white;}#sk-container-id-3 div.sk-parallel-item:first-child::after {align-self: flex-end;width: 50%;}#sk-container-id-3 div.sk-parallel-item:last-child::after {align-self: flex-start;width: 50%;}#sk-container-id-3 div.sk-parallel-item:only-child::after {width: 0;}#sk-container-id-3 div.sk-dashed-wrapped {border: 1px dashed gray;margin: 0 0.4em 0.5em 0.4em;box-sizing: border-box;padding-bottom: 0.4em;background-color: white;}#sk-container-id-3 div.sk-label label {font-family: monospace;font-weight: bold;display: inline-block;line-height: 1.2em;}#sk-container-id-3 div.sk-label-container {text-align: center;}#sk-container-id-3 div.sk-container {/* jupyter's `normalize.less` sets `[hidden] { display: none; }` but bootstrap.min.css set `[hidden] { display: none !important; }` so we also need the `!important` here to be able to override the default hidden behavior on the sphinx rendered scikit-learn.org. See: https://github.com/scikit-learn/scikit-learn/issues/21755 */display: inline-block !important;position: relative;}#sk-container-id-3 div.sk-text-repr-fallback {display: none;}</style><div id=\"sk-container-id-3\" class=\"sk-top-container\"><div class=\"sk-text-repr-fallback\"><pre>RandomForestRegressor(max_depth=10)</pre><b>In a Jupyter environment, please rerun this cell to show the HTML representation or trust the notebook. <br />On GitHub, the HTML representation is unable to render, please try loading this page with nbviewer.org.</b></div><div class=\"sk-container\" hidden><div class=\"sk-item\"><div class=\"sk-estimator sk-toggleable\"><input class=\"sk-toggleable__control sk-hidden--visually\" id=\"sk-estimator-id-3\" type=\"checkbox\" checked><label for=\"sk-estimator-id-3\" class=\"sk-toggleable__label sk-toggleable__label-arrow\">RandomForestRegressor</label><div class=\"sk-toggleable__content\"><pre>RandomForestRegressor(max_depth=10)</pre></div></div></div></div></div>"
      ],
      "text/plain": [
       "RandomForestRegressor(max_depth=10)"
      ]
     },
     "execution_count": 40,
     "metadata": {},
     "output_type": "execute_result"
    }
   ],
   "source": [
    "from sklearn.ensemble import RandomForestRegressor\n",
    "RandomForest_model = RandomForestRegressor(n_estimators=100, max_depth = 10)\n",
    "RandomForest_model.fit(X_train,y_train)"
   ]
  },
  {
   "cell_type": "code",
   "execution_count": 41,
   "id": "60a6cad0",
   "metadata": {
    "execution": {
     "iopub.execute_input": "2023-08-06T23:25:13.775602Z",
     "iopub.status.busy": "2023-08-06T23:25:13.775178Z",
     "iopub.status.idle": "2023-08-06T23:25:13.842385Z",
     "shell.execute_reply": "2023-08-06T23:25:13.841255Z"
    },
    "papermill": {
     "duration": 0.104412,
     "end_time": "2023-08-06T23:25:13.844859",
     "exception": false,
     "start_time": "2023-08-06T23:25:13.740447",
     "status": "completed"
    },
    "tags": []
   },
   "outputs": [
    {
     "data": {
      "text/plain": [
       "0.8357307791923194"
      ]
     },
     "execution_count": 41,
     "metadata": {},
     "output_type": "execute_result"
    }
   ],
   "source": [
    "accuracy_Randomforest = RandomForest_model.score(X_test,y_test)\n",
    "accuracy_Randomforest"
   ]
  },
  {
   "cell_type": "markdown",
   "id": "b540ee27",
   "metadata": {
    "papermill": {
     "duration": 0.033252,
     "end_time": "2023-08-06T23:25:13.911996",
     "exception": false,
     "start_time": "2023-08-06T23:25:13.878744",
     "status": "completed"
    },
    "tags": []
   },
   "source": [
    "Now the model is trained and can be used for predictions on new data points\n",
    "\n",
    "For example, to predict total activity intensity for hour = 8 and Calories = 120 "
   ]
  },
  {
   "cell_type": "code",
   "execution_count": 42,
   "id": "4672758a",
   "metadata": {
    "execution": {
     "iopub.execute_input": "2023-08-06T23:25:13.981673Z",
     "iopub.status.busy": "2023-08-06T23:25:13.981238Z",
     "iopub.status.idle": "2023-08-06T23:25:14.003555Z",
     "shell.execute_reply": "2023-08-06T23:25:14.002325Z"
    },
    "papermill": {
     "duration": 0.059841,
     "end_time": "2023-08-06T23:25:14.006231",
     "exception": false,
     "start_time": "2023-08-06T23:25:13.946390",
     "status": "completed"
    },
    "tags": []
   },
   "outputs": [
    {
     "name": "stdout",
     "output_type": "stream",
     "text": [
      "Predicted Total Intensity for hour=8 and Calories=120: 23.391466071382382\n",
      "23.391466071382382\n"
     ]
    },
    {
     "name": "stderr",
     "output_type": "stream",
     "text": [
      "/opt/conda/lib/python3.10/site-packages/sklearn/base.py:432: UserWarning: X has feature names, but RandomForestRegressor was fitted without feature names\n",
      "  warnings.warn(\n"
     ]
    }
   ],
   "source": [
    "print(predict_total_intensity(RandomForest_model, 8, 120))"
   ]
  },
  {
   "cell_type": "markdown",
   "id": "74271c67",
   "metadata": {
    "papermill": {
     "duration": 0.033507,
     "end_time": "2023-08-06T23:25:14.073680",
     "exception": false,
     "start_time": "2023-08-06T23:25:14.040173",
     "status": "completed"
    },
    "tags": []
   },
   "source": [
    "[Back to Table of Contents](#Table_of_Contents)\n",
    "<a id=\"Conclusion_and_Act\"></a>\n",
    "### 6. Conclusion and Act"
   ]
  },
  {
   "cell_type": "code",
   "execution_count": 43,
   "id": "387fd2ac",
   "metadata": {
    "execution": {
     "iopub.execute_input": "2023-08-06T23:25:14.145901Z",
     "iopub.status.busy": "2023-08-06T23:25:14.145148Z",
     "iopub.status.idle": "2023-08-06T23:25:14.177713Z",
     "shell.execute_reply": "2023-08-06T23:25:14.176341Z"
    },
    "papermill": {
     "duration": 0.072156,
     "end_time": "2023-08-06T23:25:14.180073",
     "exception": false,
     "start_time": "2023-08-06T23:25:14.107917",
     "status": "completed"
    },
    "tags": []
   },
   "outputs": [
    {
     "name": "stdout",
     "output_type": "stream",
     "text": [
      "+-------------------+------------+\n",
      "| Model             |   Accuracy |\n",
      "+===================+============+\n",
      "| Linear Regression |   0.806034 |\n",
      "+-------------------+------------+\n",
      "| Decision Tree     |   0.740248 |\n",
      "+-------------------+------------+\n",
      "| Random Forest     |   0.835731 |\n",
      "+-------------------+------------+\n"
     ]
    }
   ],
   "source": [
    "from tabulate import tabulate\n",
    "\n",
    "# Creating a list of lists for the table\n",
    "data = [\n",
    "    [\"Linear Regression\", accuracy_LinearRegression],\n",
    "    [\"Decision Tree\", accuracy_DecisionTrss],\n",
    "    [\"Random Forest\", accuracy_Randomforest]\n",
    "]\n",
    "\n",
    "# Printing the table\n",
    "print(tabulate(data, headers=[\"Model\", \"Accuracy\",\"Prefict\"], tablefmt=\"grid\"))\n"
   ]
  },
  {
   "cell_type": "code",
   "execution_count": 44,
   "id": "8cf31cd2",
   "metadata": {
    "execution": {
     "iopub.execute_input": "2023-08-06T23:25:14.251880Z",
     "iopub.status.busy": "2023-08-06T23:25:14.250624Z",
     "iopub.status.idle": "2023-08-06T23:25:14.258299Z",
     "shell.execute_reply": "2023-08-06T23:25:14.257456Z"
    },
    "papermill": {
     "duration": 0.045875,
     "end_time": "2023-08-06T23:25:14.260596",
     "exception": false,
     "start_time": "2023-08-06T23:25:14.214721",
     "status": "completed"
    },
    "tags": []
   },
   "outputs": [],
   "source": [
    "def predict_total_intensity(models, hour, calories):\n",
    "    # Create a list to store the results for each model\n",
    "    results = []\n",
    "\n",
    "    # Iterate through each model and make predictions\n",
    "    for model_name, model in models.items():\n",
    "        new_data = pd.DataFrame({'hour': [hour], 'Calories': [calories]})\n",
    "        predicted_intensity = model.predict(new_data)\n",
    "\n",
    "        # Append the results to the list\n",
    "        results.append({\n",
    "            'Model': model_name,\n",
    "            'Hour': hour,\n",
    "            'Calories': calories,\n",
    "            'Predicted Total Intensity': predicted_intensity[0]\n",
    "        })\n",
    "\n",
    "    # Convert the results list to a DataFrame for tabular display\n",
    "    results_df = pd.DataFrame(results)\n",
    "\n",
    "    print(\"Predicted Total Intensity:\")\n",
    "    print(results_df)\n",
    "\n",
    "    return results_df"
   ]
  },
  {
   "cell_type": "code",
   "execution_count": 45,
   "id": "0ac6e31d",
   "metadata": {
    "execution": {
     "iopub.execute_input": "2023-08-06T23:25:14.332129Z",
     "iopub.status.busy": "2023-08-06T23:25:14.331378Z",
     "iopub.status.idle": "2023-08-06T23:25:14.364291Z",
     "shell.execute_reply": "2023-08-06T23:25:14.363153Z"
    },
    "papermill": {
     "duration": 0.070813,
     "end_time": "2023-08-06T23:25:14.366277",
     "exception": false,
     "start_time": "2023-08-06T23:25:14.295464",
     "status": "completed"
    },
    "tags": []
   },
   "outputs": [
    {
     "name": "stdout",
     "output_type": "stream",
     "text": [
      "Predicted Total Intensity:\n",
      "               Model  Hour  Calories Predicted Total Intensity\n",
      "0  Linear Regression     8       120       [18.53103002096144]\n",
      "1      Decision Tree     8       120                      30.0\n",
      "2      Random Forest     8       120                 23.391466\n"
     ]
    },
    {
     "name": "stderr",
     "output_type": "stream",
     "text": [
      "/opt/conda/lib/python3.10/site-packages/sklearn/base.py:432: UserWarning: X has feature names, but LinearRegression was fitted without feature names\n",
      "  warnings.warn(\n",
      "/opt/conda/lib/python3.10/site-packages/sklearn/base.py:432: UserWarning: X has feature names, but DecisionTreeRegressor was fitted without feature names\n",
      "  warnings.warn(\n",
      "/opt/conda/lib/python3.10/site-packages/sklearn/base.py:432: UserWarning: X has feature names, but RandomForestRegressor was fitted without feature names\n",
      "  warnings.warn(\n"
     ]
    },
    {
     "data": {
      "text/html": [
       "<div>\n",
       "<style scoped>\n",
       "    .dataframe tbody tr th:only-of-type {\n",
       "        vertical-align: middle;\n",
       "    }\n",
       "\n",
       "    .dataframe tbody tr th {\n",
       "        vertical-align: top;\n",
       "    }\n",
       "\n",
       "    .dataframe thead th {\n",
       "        text-align: right;\n",
       "    }\n",
       "</style>\n",
       "<table border=\"1\" class=\"dataframe\">\n",
       "  <thead>\n",
       "    <tr style=\"text-align: right;\">\n",
       "      <th></th>\n",
       "      <th>Model</th>\n",
       "      <th>Hour</th>\n",
       "      <th>Calories</th>\n",
       "      <th>Predicted Total Intensity</th>\n",
       "    </tr>\n",
       "  </thead>\n",
       "  <tbody>\n",
       "    <tr>\n",
       "      <th>0</th>\n",
       "      <td>Linear Regression</td>\n",
       "      <td>8</td>\n",
       "      <td>120</td>\n",
       "      <td>[18.53103002096144]</td>\n",
       "    </tr>\n",
       "    <tr>\n",
       "      <th>1</th>\n",
       "      <td>Decision Tree</td>\n",
       "      <td>8</td>\n",
       "      <td>120</td>\n",
       "      <td>30.0</td>\n",
       "    </tr>\n",
       "    <tr>\n",
       "      <th>2</th>\n",
       "      <td>Random Forest</td>\n",
       "      <td>8</td>\n",
       "      <td>120</td>\n",
       "      <td>23.391466</td>\n",
       "    </tr>\n",
       "  </tbody>\n",
       "</table>\n",
       "</div>"
      ],
      "text/plain": [
       "               Model  Hour  Calories Predicted Total Intensity\n",
       "0  Linear Regression     8       120       [18.53103002096144]\n",
       "1      Decision Tree     8       120                      30.0\n",
       "2      Random Forest     8       120                 23.391466"
      ]
     },
     "execution_count": 45,
     "metadata": {},
     "output_type": "execute_result"
    }
   ],
   "source": [
    "model_dict = {\n",
    "    'Linear Regression': LinearRegression_model,\n",
    "    'Decision Tree': DecisionTree_model,\n",
    "    'Random Forest': RandomForest_model\n",
    "}\n",
    "\n",
    "hour_value = 8\n",
    "Calories_value = 120\n",
    "\n",
    "predict_total_intensity(model_dict, hour_value, Calories_value)"
   ]
  },
  {
   "cell_type": "markdown",
   "id": "a9c10234",
   "metadata": {
    "papermill": {
     "duration": 0.0347,
     "end_time": "2023-08-06T23:25:14.435786",
     "exception": false,
     "start_time": "2023-08-06T23:25:14.401086",
     "status": "completed"
    },
    "tags": []
   },
   "source": [
    "By leveraging the three trained models mentioned earlier, the company possesses the ability to create customized training plans tailored to each client's unique requirements and fitness objectives. This personalized approach enables clients to efficiently and effectively pursue their fitness goals with remarkable results.\n",
    "\n",
    "To add to the challenge, the client's exercise schedule is limited to 8 am (hour = 8), and the target is to burn 120 calories within that time frame. Despite this constraint, the company can craft a specialized training plan that maximizes effectiveness during the specified hour. Additionally, to optimize the client's workout routine, the total activity intensity will be carefully maintained within a range of 19 to 23. This particular intensity level strikes the perfect balance, ensuring the client's energy expenditure is optimized, creating a training plan that is both demanding and attainable."
   ]
  }
 ],
 "metadata": {
  "kernelspec": {
   "display_name": "Python 3",
   "language": "python",
   "name": "python3"
  },
  "language_info": {
   "codemirror_mode": {
    "name": "ipython",
    "version": 3
   },
   "file_extension": ".py",
   "mimetype": "text/x-python",
   "name": "python",
   "nbconvert_exporter": "python",
   "pygments_lexer": "ipython3",
   "version": "3.10.12"
  },
  "papermill": {
   "default_parameters": {},
   "duration": 56.29903,
   "end_time": "2023-08-06T23:25:15.492797",
   "environment_variables": {},
   "exception": null,
   "input_path": "__notebook__.ipynb",
   "output_path": "__notebook__.ipynb",
   "parameters": {},
   "start_time": "2023-08-06T23:24:19.193767",
   "version": "2.4.0"
  }
 },
 "nbformat": 4,
 "nbformat_minor": 5
}
